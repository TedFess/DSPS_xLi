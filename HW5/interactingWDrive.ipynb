{
 "cells": [
  {
   "cell_type": "markdown",
   "metadata": {
    "colab_type": "text",
    "id": "CbzJBWU7KBxM"
   },
   "source": [
    "# Integrating Colab with Google Drive\n",
    "If we are going to be grabbing data from the internet for use with colaboratory, we'll need to use our google drive\n"
   ]
  },
  {
   "cell_type": "code",
   "execution_count": 30,
   "metadata": {
    "colab": {
     "base_uri": "https://localhost:8080/",
     "height": 54
    },
    "colab_type": "code",
    "executionInfo": {
     "elapsed": 353,
     "status": "ok",
     "timestamp": 1569546343130,
     "user": {
      "displayName": "Xiaolong Li",
      "photoUrl": "",
      "userId": "06091372104227388627"
     },
     "user_tz": 240
    },
    "id": "SrECB3cNIgE7",
    "outputId": "9f0f8977-216e-4716-ce2d-c36ec65efa39"
   },
   "outputs": [
    {
     "name": "stdout",
     "output_type": "stream",
     "text": [
      "Drive already mounted at /content/drive; to attempt to forcibly remount, call drive.mount(\"/content/drive\", force_remount=True).\n"
     ]
    }
   ],
   "source": [
    "from google.colab import drive\n",
    "drive.mount(\"/content/drive\")"
   ]
  },
  {
   "cell_type": "markdown",
   "metadata": {
    "colab_type": "text",
    "id": "dSvdhIgaJghe"
   },
   "source": [
    "## The unix terminal\n",
    "Unix is one of the oldest and most barebones Operating Systems (OS), but it serves as the platform for more advanced OSs like Mac OS and some modes of Windows.\n",
    "\n",
    "Unix and unix-based OSs like Mac OS, have a powerful utility called the \"Terminal\", that allows for a \"command line interface\" for interacting with your computer (Windows has something similar, but the syntax is different).\n",
    "\n",
    "Jupyter allows us to run some of these commands as **if we were in a terminal**:"
   ]
  },
  {
   "cell_type": "code",
   "execution_count": 0,
   "metadata": {
    "colab": {
     "base_uri": "https://localhost:8080/",
     "height": 34
    },
    "colab_type": "code",
    "executionInfo": {
     "elapsed": 1315,
     "status": "ok",
     "timestamp": 1569544835001,
     "user": {
      "displayName": "Xiaolong Li",
      "photoUrl": "",
      "userId": "06091372104227388627"
     },
     "user_tz": 240
    },
    "id": "Onm0Sk3gIzel",
    "outputId": "38afbd39-c1ad-4b22-a67c-db30cd75f47a"
   },
   "outputs": [
    {
     "name": "stdout",
     "output_type": "stream",
     "text": [
      "\u001b[0m\u001b[01;34mdrive\u001b[0m/  \u001b[01;34msample_data\u001b[0m/\n"
     ]
    }
   ],
   "source": [
    "ls"
   ]
  },
  {
   "cell_type": "code",
   "execution_count": 0,
   "metadata": {
    "colab": {
     "base_uri": "https://localhost:8080/",
     "height": 34
    },
    "colab_type": "code",
    "executionInfo": {
     "elapsed": 345,
     "status": "ok",
     "timestamp": 1569544840337,
     "user": {
      "displayName": "Xiaolong Li",
      "photoUrl": "",
      "userId": "06091372104227388627"
     },
     "user_tz": 240
    },
    "id": "-7D1Y-1yKYpG",
    "outputId": "ff582b7b-99ad-4c09-e4cf-d21ad3a8b4e6"
   },
   "outputs": [
    {
     "data": {
      "text/plain": [
       "'/content'"
      ]
     },
     "execution_count": 4,
     "metadata": {
      "tags": []
     },
     "output_type": "execute_result"
    }
   ],
   "source": [
    "pwd"
   ]
  },
  {
   "cell_type": "code",
   "execution_count": 0,
   "metadata": {
    "colab": {
     "base_uri": "https://localhost:8080/",
     "height": 34
    },
    "colab_type": "code",
    "executionInfo": {
     "elapsed": 1296,
     "status": "ok",
     "timestamp": 1569544890810,
     "user": {
      "displayName": "Xiaolong Li",
      "photoUrl": "",
      "userId": "06091372104227388627"
     },
     "user_tz": 240
    },
    "id": "ZXdQEX39KaKL",
    "outputId": "5f968d53-752c-4460-eaa7-73be15e45a50"
   },
   "outputs": [
    {
     "name": "stdout",
     "output_type": "stream",
     "text": [
      "interactingWDrive.ipynb\n"
     ]
    }
   ],
   "source": [
    "ls \"drive/My Drive/dsps\""
   ]
  },
  {
   "cell_type": "code",
   "execution_count": 0,
   "metadata": {
    "colab": {
     "base_uri": "https://localhost:8080/",
     "height": 51
    },
    "colab_type": "code",
    "executionInfo": {
     "elapsed": 1350,
     "status": "ok",
     "timestamp": 1569544923077,
     "user": {
      "displayName": "Xiaolong Li",
      "photoUrl": "",
      "userId": "06091372104227388627"
     },
     "user_tz": 240
    },
    "id": "tqiLcdNbKenb",
    "outputId": "563ad782-9133-4270-d07b-728564fbd0f9"
   },
   "outputs": [
    {
     "name": "stdout",
     "output_type": "stream",
     "text": [
      "total 5\n",
      "-rw------- 1 root root 4508 Sep 27 00:43 interactingWDrive.ipynb\n"
     ]
    }
   ],
   "source": [
    "ls -ltr \"drive/My Drive/dsps\""
   ]
  },
  {
   "cell_type": "markdown",
   "metadata": {
    "colab_type": "text",
    "id": "_Su0M8TyKzi9"
   },
   "source": [
    "These unix commands can also be combined with some python syntax using the os module (let's make a directory called \"data\" in your colaboratory home directory):\n",
    "\n",
    "download data from the web\n",
    "\n",
    "to do that you can use wget, but that command is not \"included\" in the colab jupyter notebook. the are unix commands. you can use them if you start the command with !\n",
    "\n"
   ]
  },
  {
   "cell_type": "code",
   "execution_count": 0,
   "metadata": {
    "colab": {
     "base_uri": "https://localhost:8080/",
     "height": 34
    },
    "colab_type": "code",
    "executionInfo": {
     "elapsed": 314,
     "status": "ok",
     "timestamp": 1569545011219,
     "user": {
      "displayName": "Xiaolong Li",
      "photoUrl": "",
      "userId": "06091372104227388627"
     },
     "user_tz": 240
    },
    "id": "pg9VBzOMKuIs",
    "outputId": "f0909045-9126-4bc1-c193-38dddd52087c"
   },
   "outputs": [
    {
     "name": "stdout",
     "output_type": "stream",
     "text": [
      "/content/drive/My Drive/dsps\n"
     ]
    }
   ],
   "source": [
    "cd \"drive/My Drive/dsps\""
   ]
  },
  {
   "cell_type": "code",
   "execution_count": 0,
   "metadata": {
    "colab": {
     "base_uri": "https://localhost:8080/",
     "height": 224
    },
    "colab_type": "code",
    "executionInfo": {
     "elapsed": 3634,
     "status": "ok",
     "timestamp": 1569545068469,
     "user": {
      "displayName": "Xiaolong Li",
      "photoUrl": "",
      "userId": "06091372104227388627"
     },
     "user_tz": 240
    },
    "id": "rdJAqAQ9LD6C",
    "outputId": "189a26ab-a060-4c95-e01e-e3d905fa23a3"
   },
   "outputs": [
    {
     "name": "stdout",
     "output_type": "stream",
     "text": [
      "--2019-09-27 00:46:52--  https://www2.census.gov/programs-surveys/cbp/datasets/2016/zbp16totals.zip\n",
      "Resolving www2.census.gov (www2.census.gov)... 23.46.200.113, 2600:1402:3800:29d::208c, 2600:1402:3800:29f::208c\n",
      "Connecting to www2.census.gov (www2.census.gov)|23.46.200.113|:443... connected.\n",
      "HTTP request sent, awaiting response... 200 OK\n",
      "Length: unspecified [application/zip]\n",
      "Saving to: ‘zbp16totals.zip’\n",
      "\n",
      "zbp16totals.zip         [ <=>                ] 750.30K  --.-KB/s    in 0.1s    \n",
      "\n",
      "2019-09-27 00:46:55 (6.29 MB/s) - ‘zbp16totals.zip’ saved [768303]\n",
      "\n"
     ]
    }
   ],
   "source": [
    "!wget https://www2.census.gov/programs-surveys/cbp/datasets/2016/zbp16totals.zip\n"
   ]
  },
  {
   "cell_type": "code",
   "execution_count": 0,
   "metadata": {
    "colab": {
     "base_uri": "https://localhost:8080/",
     "height": 34
    },
    "colab_type": "code",
    "executionInfo": {
     "elapsed": 1153,
     "status": "ok",
     "timestamp": 1569545072780,
     "user": {
      "displayName": "Xiaolong Li",
      "photoUrl": "",
      "userId": "06091372104227388627"
     },
     "user_tz": 240
    },
    "id": "NzBxllUBLExp",
    "outputId": "13022b44-4763-48dc-c7be-e5933415c835"
   },
   "outputs": [
    {
     "name": "stdout",
     "output_type": "stream",
     "text": [
      "interactingWDrive.ipynb  zbp16totals.zip\n"
     ]
    }
   ],
   "source": [
    "ls"
   ]
  },
  {
   "cell_type": "markdown",
   "metadata": {
    "colab_type": "text",
    "id": "9WubEQASLX2M"
   },
   "source": [
    "same with ```unzip``` to expand a compressed zip file. the argument -d <path>expands into \"path\"\n",
    "\n"
   ]
  },
  {
   "cell_type": "code",
   "execution_count": 0,
   "metadata": {
    "colab": {
     "base_uri": "https://localhost:8080/",
     "height": 51
    },
    "colab_type": "code",
    "executionInfo": {
     "elapsed": 1095,
     "status": "ok",
     "timestamp": 1569545259327,
     "user": {
      "displayName": "Xiaolong Li",
      "photoUrl": "",
      "userId": "06091372104227388627"
     },
     "user_tz": 240
    },
    "id": "w5AjxS_uLSuL",
    "outputId": "5d2113ce-4104-45c4-c830-4f6796b4a480"
   },
   "outputs": [
    {
     "name": "stdout",
     "output_type": "stream",
     "text": [
      "Archive:  zbp16totals.zip\n",
      "  inflating: ./zbp16totals.txt       \n"
     ]
    }
   ],
   "source": [
    "!unzip zbp16totals.zip -d \"./\""
   ]
  },
  {
   "cell_type": "code",
   "execution_count": 0,
   "metadata": {
    "colab": {
     "base_uri": "https://localhost:8080/",
     "height": 34
    },
    "colab_type": "code",
    "executionInfo": {
     "elapsed": 1179,
     "status": "ok",
     "timestamp": 1569545267651,
     "user": {
      "displayName": "Xiaolong Li",
      "photoUrl": "",
      "userId": "06091372104227388627"
     },
     "user_tz": 240
    },
    "id": "pnC-O9nHMASd",
    "outputId": "a5808a4c-693c-4ce8-a936-eb563616bc6a"
   },
   "outputs": [
    {
     "name": "stdout",
     "output_type": "stream",
     "text": [
      "interactingWDrive.ipynb  zbp16totals.txt  zbp16totals.zip\n"
     ]
    }
   ],
   "source": [
    "ls"
   ]
  },
  {
   "cell_type": "markdown",
   "metadata": {
    "colab_type": "text",
    "id": "aigyFz7kMI3h"
   },
   "source": [
    "Another way to access unix commands is to use the module os and specifically the function os.system(). This function performs operations and returns a success vs error state. So I cannot use it, for example, ro tun ls\n",
    "\n"
   ]
  },
  {
   "cell_type": "code",
   "execution_count": 0,
   "metadata": {
    "colab": {
     "base_uri": "https://localhost:8080/",
     "height": 34
    },
    "colab_type": "code",
    "executionInfo": {
     "elapsed": 294,
     "status": "ok",
     "timestamp": 1569545424579,
     "user": {
      "displayName": "Xiaolong Li",
      "photoUrl": "",
      "userId": "06091372104227388627"
     },
     "user_tz": 240
    },
    "id": "b3tR6W5mMCSd",
    "outputId": "19d02a5b-0aca-4cd4-8d72-11425f018505"
   },
   "outputs": [
    {
     "data": {
      "text/plain": [
       "0"
      ]
     },
     "execution_count": 16,
     "metadata": {
      "tags": []
     },
     "output_type": "execute_result"
    }
   ],
   "source": [
    "import os\n",
    "cmd = \"ls ./\"\n",
    "os.system(cmd)"
   ]
  },
  {
   "cell_type": "markdown",
   "metadata": {
    "colab_type": "text",
    "id": "oPiHujh9Mrv0"
   },
   "source": [
    "0 means no error: the command was executed without problem. Any other number will indicate an error (and you can google the meaning of the number.) But i do not see the output of the command. so use this if you want to know if the command worked, but you do not care to see its output."
   ]
  },
  {
   "cell_type": "markdown",
   "metadata": {
    "colab_type": "text",
    "id": "Hpf7EDAqNobY"
   },
   "source": [
    "For example I can use it to remove files and directories: rm (rm -r which means recursively, for a directory)\n",
    "\n",
    "Note the syntax: you need to parse the space with a \"\\ \" in front of it to be rendered correctly in the string when you use os.system()"
   ]
  },
  {
   "cell_type": "code",
   "execution_count": 0,
   "metadata": {
    "colab": {
     "base_uri": "https://localhost:8080/",
     "height": 34
    },
    "colab_type": "code",
    "executionInfo": {
     "elapsed": 372,
     "status": "ok",
     "timestamp": 1569545833128,
     "user": {
      "displayName": "Xiaolong Li",
      "photoUrl": "",
      "userId": "06091372104227388627"
     },
     "user_tz": 240
    },
    "id": "kT4txlxLMb_S",
    "outputId": "eb5cff27-fb87-4b5c-89d9-e66a09cb7348"
   },
   "outputs": [
    {
     "data": {
      "text/plain": [
       "0"
      ]
     },
     "execution_count": 22,
     "metadata": {
      "tags": []
     },
     "output_type": "execute_result"
    }
   ],
   "source": [
    "cmd = \"mkdir test_dir\"\n",
    "os.system(cmd)"
   ]
  },
  {
   "cell_type": "code",
   "execution_count": 0,
   "metadata": {
    "colab": {
     "base_uri": "https://localhost:8080/",
     "height": 34
    },
    "colab_type": "code",
    "executionInfo": {
     "elapsed": 1276,
     "status": "ok",
     "timestamp": 1569545836786,
     "user": {
      "displayName": "Xiaolong Li",
      "photoUrl": "",
      "userId": "06091372104227388627"
     },
     "user_tz": 240
    },
    "id": "w2YnWATIOCkf",
    "outputId": "5c1a5fd3-6bd9-4cd8-8d04-fcd9e84ad9a3"
   },
   "outputs": [
    {
     "name": "stdout",
     "output_type": "stream",
     "text": [
      "interactingWDrive.ipynb  \u001b[0m\u001b[01;34mtest_dir\u001b[0m/  zbp16totals.txt  zbp16totals.zip\n"
     ]
    }
   ],
   "source": [
    "ls"
   ]
  },
  {
   "cell_type": "code",
   "execution_count": 0,
   "metadata": {
    "colab": {
     "base_uri": "https://localhost:8080/",
     "height": 34
    },
    "colab_type": "code",
    "executionInfo": {
     "elapsed": 304,
     "status": "ok",
     "timestamp": 1569545839748,
     "user": {
      "displayName": "Xiaolong Li",
      "photoUrl": "",
      "userId": "06091372104227388627"
     },
     "user_tz": 240
    },
    "id": "yJIkapnjOAVi",
    "outputId": "bbec6f88-f698-45c3-98ad-744ef0c3ecf5"
   },
   "outputs": [
    {
     "data": {
      "text/plain": [
       "0"
      ]
     },
     "execution_count": 24,
     "metadata": {
      "tags": []
     },
     "output_type": "execute_result"
    }
   ],
   "source": [
    "cmd = \"rm -r test_dir\"\n",
    "os.system(cmd)"
   ]
  },
  {
   "cell_type": "code",
   "execution_count": 0,
   "metadata": {
    "colab": {
     "base_uri": "https://localhost:8080/",
     "height": 34
    },
    "colab_type": "code",
    "executionInfo": {
     "elapsed": 1785,
     "status": "ok",
     "timestamp": 1569545856678,
     "user": {
      "displayName": "Xiaolong Li",
      "photoUrl": "",
      "userId": "06091372104227388627"
     },
     "user_tz": 240
    },
    "id": "iLDIY1YAOGTj",
    "outputId": "6f69684a-81f5-4c81-fd9d-be348fda3307"
   },
   "outputs": [
    {
     "name": "stdout",
     "output_type": "stream",
     "text": [
      "ls: cannot access 'test_dir': No such file or directory\n"
     ]
    }
   ],
   "source": [
    "ls \"test_dir\""
   ]
  },
  {
   "cell_type": "markdown",
   "metadata": {
    "colab_type": "text",
    "id": "5H43yCzXObMe"
   },
   "source": [
    "You can string unix commands together with the semicolon ; (cd stands for \"change directory\" and it moves you around)"
   ]
  },
  {
   "cell_type": "code",
   "execution_count": 0,
   "metadata": {
    "colab": {
     "base_uri": "https://localhost:8080/",
     "height": 51
    },
    "colab_type": "code",
    "executionInfo": {
     "elapsed": 1189,
     "status": "ok",
     "timestamp": 1569545940233,
     "user": {
      "displayName": "Xiaolong Li",
      "photoUrl": "",
      "userId": "06091372104227388627"
     },
     "user_tz": 240
    },
    "id": "QpYKAm1_OK3O",
    "outputId": "6e344c74-8f01-4481-f004-8d23a0893aeb"
   },
   "outputs": [
    {
     "name": "stdout",
     "output_type": "stream",
     "text": [
      "interactingWDrive.ipynb  zbp16totals.txt  zbp16totals.zip\n",
      "/content/drive/My Drive/dsps\n"
     ]
    }
   ],
   "source": [
    "ls; pwd"
   ]
  },
  {
   "cell_type": "markdown",
   "metadata": {
    "colab_type": "text",
    "id": "4euNYnWQOpXX"
   },
   "source": [
    "But again, **these are not python commands and can't be used as such on their own**:\n",
    "\n",
    "We'll see how combining unix commands with python via os.system can be put to good use below.\n"
   ]
  },
  {
   "cell_type": "markdown",
   "metadata": {
    "colab_type": "text",
    "id": "2OFrOeYPOzrf"
   },
   "source": [
    "### The wget command\n",
    "When dealing with data on the web, the wget command can be very useful for quickly grabbing data that you want. Let's get the zipcode business patterns for 2016 (note the exclamation point before the wget command):"
   ]
  },
  {
   "cell_type": "code",
   "execution_count": 0,
   "metadata": {
    "colab": {
     "base_uri": "https://localhost:8080/",
     "height": 224
    },
    "colab_type": "code",
    "executionInfo": {
     "elapsed": 66916,
     "status": "ok",
     "timestamp": 1569546105719,
     "user": {
      "displayName": "Xiaolong Li",
      "photoUrl": "",
      "userId": "06091372104227388627"
     },
     "user_tz": 240
    },
    "id": "8mBeoftXOmgM",
    "outputId": "e67276f6-3d4d-4254-9684-4043bc87e81f",
    "scrolled": true
   },
   "outputs": [
    {
     "name": "stdout",
     "output_type": "stream",
     "text": [
      "--2019-09-27 01:03:06--  https://www2.census.gov/programs-surveys/cbp/datasets/2016/zbp16detail.zip\n",
      "Resolving www2.census.gov (www2.census.gov)... 23.46.200.113\n",
      "Connecting to www2.census.gov (www2.census.gov)|23.46.200.113|:443... connected.\n",
      "HTTP request sent, awaiting response... 200 OK\n",
      "Length: unspecified [application/zip]\n",
      "Saving to: ‘zbp16detail.zip’\n",
      "\n",
      "zbp16detail.zip         [         <=>        ]  27.51M  14.9MB/s    in 1.8s    \n",
      "\n",
      "2019-09-27 01:04:11 (14.9 MB/s) - ‘zbp16detail.zip’ saved [28843251]\n",
      "\n"
     ]
    }
   ],
   "source": [
    "!wget https://www2.census.gov/programs-surveys/cbp/datasets/2016/zbp16detail.zip\n"
   ]
  },
  {
   "cell_type": "code",
   "execution_count": 31,
   "metadata": {
    "colab": {
     "base_uri": "https://localhost:8080/",
     "height": 34
    },
    "colab_type": "code",
    "executionInfo": {
     "elapsed": 1167,
     "status": "ok",
     "timestamp": 1569546356300,
     "user": {
      "displayName": "Xiaolong Li",
      "photoUrl": "",
      "userId": "06091372104227388627"
     },
     "user_tz": 240
    },
    "id": "3_nBa5_2O-23",
    "outputId": "ab420485-b7ac-41f8-9f67-5bb9520c2ba9",
    "scrolled": true
   },
   "outputs": [
    {
     "name": "stdout",
     "output_type": "stream",
     "text": [
      "interactingWDrive.ipynb  zbp16detail.zip  zbp16totals.txt  zbp16totals.zip\n"
     ]
    }
   ],
   "source": [
    "ls"
   ]
  },
  {
   "cell_type": "markdown",
   "metadata": {
    "colab_type": "text",
    "id": "dR-DaaXEPm7n"
   },
   "source": [
    "Now we can see the utility of combining unix commands with python to make our lives much easier:"
   ]
  },
  {
   "cell_type": "code",
   "execution_count": 33,
   "metadata": {
    "colab": {
     "base_uri": "https://localhost:8080/",
     "height": 34
    },
    "colab_type": "code",
    "executionInfo": {
     "elapsed": 1019,
     "status": "ok",
     "timestamp": 1569546458223,
     "user": {
      "displayName": "Xiaolong Li",
      "photoUrl": "",
      "userId": "06091372104227388627"
     },
     "user_tz": 240
    },
    "id": "ITFTd2DtPhez",
    "outputId": "d02577eb-5b11-49aa-f9e3-9cdfe63bbaa7"
   },
   "outputs": [
    {
     "name": "stdout",
     "output_type": "stream",
     "text": [
      "interactingWDrive.ipynb  zbp  zbp16detail.zip  zbp16totals.txt\tzbp16totals.zip\n"
     ]
    }
   ],
   "source": [
    "# -- define a command to make a sub-directory in data called zbp\n",
    "cmd = \"mkdir zbp\"\n",
    "# -- run that command\n",
    "os.system(cmd)\n",
    "# -- check if the command worked\n",
    "!ls"
   ]
  },
  {
   "cell_type": "code",
   "execution_count": 34,
   "metadata": {
    "colab": {
     "base_uri": "https://localhost:8080/",
     "height": 51
    },
    "colab_type": "code",
    "executionInfo": {
     "elapsed": 1184,
     "status": "ok",
     "timestamp": 1569546480552,
     "user": {
      "displayName": "Xiaolong Li",
      "photoUrl": "",
      "userId": "06091372104227388627"
     },
     "user_tz": 240
    },
    "id": "FKYuImaPQhTk",
    "outputId": "2b011adf-2df4-4a98-c00a-06736694a8a2"
   },
   "outputs": [
    {
     "name": "stdout",
     "output_type": "stream",
     "text": [
      "interactingWDrive.ipynb  zbp16detail.zip  zbp16totals.zip\n",
      "\u001b[0m\u001b[01;34mzbp\u001b[0m/                     zbp16totals.txt\n"
     ]
    }
   ],
   "source": [
    "ls"
   ]
  },
  {
   "cell_type": "markdown",
   "metadata": {
    "colab_type": "text",
    "id": "WR1qPaKQQxGT"
   },
   "source": [
    "last package to discuss: glob looks at the content of a directory and returns it in a list. if the dir is empty the length of the string is...0!\n",
    "\n"
   ]
  },
  {
   "cell_type": "code",
   "execution_count": 47,
   "metadata": {
    "colab": {
     "base_uri": "https://localhost:8080/",
     "height": 34
    },
    "colab_type": "code",
    "executionInfo": {
     "elapsed": 375,
     "status": "ok",
     "timestamp": 1569546840352,
     "user": {
      "displayName": "Xiaolong Li",
      "photoUrl": "",
      "userId": "06091372104227388627"
     },
     "user_tz": 240
    },
    "id": "iO60dHbFQ1SP",
    "outputId": "abffcc44-dfd5-4862-a104-429f6867e0dc"
   },
   "outputs": [
    {
     "data": {
      "text/plain": [
       "['/content/drive/My Drive/dsps']"
      ]
     },
     "execution_count": 47,
     "metadata": {
      "tags": []
     },
     "output_type": "execute_result"
    }
   ],
   "source": [
    "import glob\n",
    "if len(glob.glob(\"/content/drive/My Drive/dsps\"))==0:\n",
    "    os.system(\"mkdir /content/drive/My\\ Drive/dsps\")\n",
    "\n",
    "glob.glob(\"/content/drive/My Drive/dsps\")"
   ]
  },
  {
   "cell_type": "markdown",
   "metadata": {
    "colab_type": "text",
    "id": "Ql_GAsO3SQLB"
   },
   "source": [
    "## TASK\n",
    "Create a for loop that reads in the ZIPCODE data zbp[year]detail.zip where [year] goes from 2010 through 2014 included. The for look should use the os module to:\n",
    "\n",
    "- download the zipped file\n",
    "- unzip the file in dsps2019 dir (create it if necessary)\n",
    "- clean up after itself by removing the downloaded zip files\n",
    "- print at every step of the loop which year the loop is working on and at each command which command is running.\n",
    "- notify the user if an error occurs and where"
   ]
  },
  {
   "cell_type": "code",
   "execution_count": 68,
   "metadata": {
    "colab": {
     "base_uri": "https://localhost:8080/",
     "height": 34
    },
    "colab_type": "code",
    "executionInfo": {
     "elapsed": 364,
     "status": "ok",
     "timestamp": 1569549051939,
     "user": {
      "displayName": "Xiaolong Li",
      "photoUrl": "",
      "userId": "06091372104227388627"
     },
     "user_tz": 240
    },
    "id": "ip1ZCR9VUhZA",
    "outputId": "67705cea-03b5-4de9-f5c1-91de93183d5c"
   },
   "outputs": [
    {
     "data": {
      "text/plain": [
       "'wget https://www2.census.gov/programs-surveys/cbp/datasets/2016/zbp16detail.zip'"
      ]
     },
     "execution_count": 68,
     "metadata": {
      "tags": []
     },
     "output_type": "execute_result"
    }
   ],
   "source": [
    "path = \"https://www2.census.gov/programs-surveys/cbp/datasets\"\n",
    "ii = 16\n",
    "snum = str(ii)\n",
    "\n",
    "# -- build the wget command\n",
    "cmd_wget = \"wget {}/20{}/zbp{}detail.zip\".format(path, ii, ii)\n",
    "cmd_wget"
   ]
  },
  {
   "cell_type": "code",
   "execution_count": 69,
   "metadata": {
    "colab": {
     "base_uri": "https://localhost:8080/",
     "height": 272
    },
    "colab_type": "code",
    "executionInfo": {
     "elapsed": 80172,
     "status": "ok",
     "timestamp": 1569550059382,
     "user": {
      "displayName": "Xiaolong Li",
      "photoUrl": "",
      "userId": "06091372104227388627"
     },
     "user_tz": 240
    },
    "id": "J7qzZ7N6Ri9T",
    "outputId": "efe693dc-31eb-4d76-959d-c30d8aa21825"
   },
   "outputs": [
    {
     "name": "stdout",
     "output_type": "stream",
     "text": [
      "downloading year 2010\n",
      "moving file...\n",
      "remove the zip file\n",
      "downloading year 2011\n",
      "moving file...\n",
      "remove the zip file\n",
      "downloading year 2012\n",
      "moving file...\n",
      "remove the zip file\n",
      "downloading year 2013\n",
      "moving file...\n",
      "remove the zip file\n",
      "downloading year 2014\n",
      "moving file...\n",
      "remove the zip file\n"
     ]
    }
   ],
   "source": [
    "path = \"https://www2.census.gov/programs-surveys/cbp/datasets\"\n",
    "\n",
    "# create the directory as above. \n",
    "# Use glob.glob to see if it is there and capture the output of os.system to see if you have an error\n",
    "if len(glob.glob(\"/content/drive/My Drive/dsps/zbp\"))==0:\n",
    "    res = os.system(\"mkdir /content/drive/My\\ Drive/dsps/zbp\")\n",
    "    if res!=0:\n",
    "        print(\"err\", res, \"with mkdir\")\n",
    "\n",
    "# -- loop through the years for which we want the zbp data\n",
    "for ii in range(10, 15): \n",
    "  \n",
    "    # -- convert year to string\n",
    "    snum = str(ii)\n",
    "\n",
    "    # -- build the wget command\n",
    "    cmd_wget = \"wget {}/20{}/zbp{}detail.zip\".format(path, snum, snum)\n",
    "\n",
    "    # -- build the unzip command\n",
    "    cmd_unzip = \"unzip zbp{}detail.zip -d /content/drive/My\\ Drive/dsps/zbp/\".format(snum)\n",
    "\n",
    "    # -- build the remove command\n",
    "    cmd_rm = \"rm zbp{}detail.zip\".format(snum)\n",
    "  \n",
    "    # -- alert on progress\n",
    "    print(\"downloading year 20{}\".format(snum))\n",
    "  \n",
    "    # -- execute the wget command and check\n",
    "    res = os.system(cmd_wget)\n",
    "    if res != 0:\n",
    "        print(\"error \", res, \"with downloading\", ii)\n",
    "  \n",
    "    # -- alert on progress\n",
    "    print(\"moving file...\")\n",
    "\n",
    "    res = os.system(cmd_unzip)\n",
    "    \n",
    "    # -- alert on progress\n",
    "    print(\"remove the zip file\")\n",
    "\n",
    "    res = os.system(cmd_rm)\n"
   ]
  },
  {
   "cell_type": "code",
   "execution_count": 70,
   "metadata": {
    "colab": {
     "base_uri": "https://localhost:8080/",
     "height": 51
    },
    "colab_type": "code",
    "executionInfo": {
     "elapsed": 1174,
     "status": "ok",
     "timestamp": 1569550090880,
     "user": {
      "displayName": "Xiaolong Li",
      "photoUrl": "",
      "userId": "06091372104227388627"
     },
     "user_tz": 240
    },
    "id": "-hLO-Se4eA2y",
    "outputId": "1f79521e-f172-4762-cc43-d911a1757155"
   },
   "outputs": [
    {
     "name": "stdout",
     "output_type": "stream",
     "text": [
      "zbp10detail.txt  zbp12detail.txt  zbp14detail.txt\n",
      "zbp11detail.txt  zbp13detail.txt\n"
     ]
    }
   ],
   "source": [
    "ls \"/content/drive/My Drive/dsps/zbp\""
   ]
  }
 ],
 "metadata": {
  "colab": {
   "collapsed_sections": [],
   "name": "interactingWDrive.ipynb",
   "provenance": []
  },
  "kernelspec": {
   "display_name": "Python 3",
   "language": "python",
   "name": "python3"
  },
  "language_info": {
   "codemirror_mode": {
    "name": "ipython",
    "version": 3
   },
   "file_extension": ".py",
   "mimetype": "text/x-python",
   "name": "python",
   "nbconvert_exporter": "python",
   "pygments_lexer": "ipython3",
   "version": "3.6.8"
  }
 },
 "nbformat": 4,
 "nbformat_minor": 1
}
