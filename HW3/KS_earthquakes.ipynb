{
 "cells": [
  {
   "cell_type": "markdown",
   "metadata": {
    "colab_type": "text",
    "id": "view-in-github"
   },
   "source": [
    "<a href=\"https://colab.research.google.com/github/fedhere/DSPS/blob/master/KS_earthquakes.ipynb\" target=\"_parent\"><img src=\"https://colab.research.google.com/assets/colab-badge.svg\" alt=\"Open In Colab\"/></a>"
   ]
  },
  {
   "cell_type": "markdown",
   "metadata": {
    "colab_type": "text",
    "id": "Uk3iBT7phXry"
   },
   "source": [
    "Created by FedericaBBianco @fedhere September 2019 for UDel PHYS467/667\n",
    "# Kolmogorov Smirnoff test, application to earthquake data"
   ]
  },
  {
   "cell_type": "code",
   "execution_count": 809,
   "metadata": {
    "ExecuteTime": {
     "end_time": "2019-09-09T01:40:01.895798Z",
     "start_time": "2019-09-09T01:40:01.890474Z"
    },
    "colab": {
     "base_uri": "https://localhost:8080/",
     "height": 34
    },
    "colab_type": "code",
    "id": "LS78mdVthXrz",
    "outputId": "92c6507b-0221-4383-87ae-ebff8c8cbde0"
   },
   "outputs": [
    {
     "name": "stdout",
     "output_type": "stream",
     "text": [
      "Populating the interactive namespace from numpy and matplotlib\n"
     ]
    }
   ],
   "source": [
    "#all the imports I needed\n",
    "from __future__ import print_function, division\n",
    "import numpy as np\n",
    "import pandas as pd\n",
    "import pylab as pl\n",
    "import scipy as sp\n",
    "import seaborn as sn\n",
    "from scipy import stats\n",
    "%pylab inline\n",
    "pl.style.use(\"https://raw.githubusercontent.com/fedhere/DSPS/master/fbb.mplstyle\")"
   ]
  },
  {
   "cell_type": "markdown",
   "metadata": {
    "colab_type": "text",
    "id": "SvIJHRyuhXr2"
   },
   "source": [
    "This homework asks you to reproduce the work in [Corral 2018](https://arxiv.org/pdf/0910.0055.pdf) which is well described, but not \"reproducible\". \n",
    "Corral 2018 uses a K-S test to show that at different magnitude scales the time gaps between earthquakes follows the same distribution. If true, this indicates that there is a consistent scaling law. \n",
    "\n",
    "The argument is a little convoluted, but it is a somewhat innovative use of the test. Corall compares the time gap between earthquakes  greater than a certain magnitude threshold with the time gaps between earthquakes above a different threshold, and finds no differences.\n",
    "\n",
    "Remind yourself exactly what the K-S test is about :\n",
    "\n",
    "    1 What is the test's Null Hypothesis that the K-S test tests?\n",
    "    \n",
    "    \n"
   ]
  },
  {
   "cell_type": "markdown",
   "metadata": {
    "colab_type": "text",
    "id": "y8DJjYrthXr3"
   },
   "source": [
    "> The Null Hypothesis is that two data sets are from the same distribution.\n",
    "\n"
   ]
  },
  {
   "cell_type": "markdown",
   "metadata": {
    "colab_type": "text",
    "id": "V8T9XH7nhXr3"
   },
   "source": [
    "    2 What is the \"statistic\" or \"pivotal quantity\" that the test uses?\n",
    "    \n"
   ]
  },
  {
   "cell_type": "markdown",
   "metadata": {
    "ExecuteTime": {
     "end_time": "2019-09-08T21:14:09.757045Z",
     "start_time": "2019-09-08T21:14:09.753882Z"
    },
    "colab_type": "text",
    "id": "jSSktfhAhXr4"
   },
   "source": [
    "> The pivotal quantity is the maximum difference between the rescaled cumulative distributions of the two data sets. \n",
    "\n"
   ]
  },
  {
   "cell_type": "markdown",
   "metadata": {
    "ExecuteTime": {
     "end_time": "2019-09-08T21:14:43.709157Z",
     "start_time": "2019-09-08T21:14:43.704734Z"
    },
    "colab_type": "text",
    "id": "IYoQgG1BhXr4"
   },
   "source": [
    "    3 What does the probability distribution of this statistic depend on? "
   ]
  },
  {
   "cell_type": "markdown",
   "metadata": {},
   "source": [
    "> The probability of this statistic depend on the number of data points $n$ and distance of cumulative distribution $d$.\n",
    "\n"
   ]
  },
  {
   "cell_type": "markdown",
   "metadata": {
    "colab_type": "text",
    "id": "M-h5uhgfhXr6"
   },
   "source": [
    "# Data Retrival"
   ]
  },
  {
   "cell_type": "markdown",
   "metadata": {
    "colab_type": "text",
    "id": "7TW_8XaNhXr6"
   },
   "source": [
    "The first reason why the paper is not techincally _reproducible_ is that, while a link is provided to retrieve the data, the link is dead. This happens often. Services like [Zenodo](https://zenodo.org/) or journals that serve data provide some insurance against this but unfortunately the standards are not strict. "
   ]
  },
  {
   "cell_type": "markdown",
   "metadata": {
    "colab_type": "text",
    "id": "Bt6gDmQJhXr7"
   },
   "source": [
    "If you are taking this class as 667 retrieve the data yourself from [this website](http://service.scedc.caltech.edu/eq-catalogs/poly.php). Make sure the number of entries in your final dataset is similar to that of the authors. I got 70798, instead of 77000. 10% off, which I deem close enough. You should get something similar. Use the map in the paper to determine the region of interest. Call the file earthquakes_\\<firstinitialLastname\\>.csv and upload it to your github repository. Read it your file, instead of mine as instructed below. If you are getting weird results compare to what I got, go back and check how the files differ."
   ]
  },
  {
   "cell_type": "markdown",
   "metadata": {
    "colab_type": "text",
    "id": "eCiLW1AuhXr7"
   },
   "source": [
    "# Data Ingestion"
   ]
  },
  {
   "cell_type": "markdown",
   "metadata": {
    "colab_type": "text",
    "id": "FH0X7d9_hXr8"
   },
   "source": [
    "## read in data"
   ]
  },
  {
   "cell_type": "markdown",
   "metadata": {
    "colab_type": "text",
    "id": "XbMPVaK-hXr9"
   },
   "source": [
    "I saved the data in a file called \"earthquakes.csv\", where ```csv``` stands for \"comma separated file\". [This file format](https://www.howtogeek.com/348960/what-is-a-csv-file-and-how-do-i-open-it/) requires different entries in a row to be separated by commas alone (no space) and for commas to be used in quote if they are not intended to separate entries. \n",
    "\n",
    "```\n",
    "a,b,c\n",
    "d,e,f\n",
    "g,\"h,2\",i\n",
    "```\n",
    "The data is uploaded on the  github homework repository but to read it in you will need to get the link to the *raw file*: the link to the file https://github.com/fedhere/DSPS/blob/master/HW3/earthquakes.csv  takes you to an ```html``` page that includes the content of the file, but you want to isolate the content of the file itself: the _raw file_. Pay attention to this: from the next time I will not give you the exact link, I will just point you to the file and you will have to find the link to the raw data from there. \n",
    "https://raw.githubusercontent.com/fedhere/DSPS/master/HW3/earthquakes.csv\n",
    "\n",
    "The data can be read effectively using the _pandas_ python package as ```pandas.read_csv(<file name or URL>)```. \n",
    "\n",
    "However, I did not format the data correctly, according to the csv extension requirement. This happens all the time. Look at the file and use the pandas documentation to figure out how to read it with ```pd.read_csv()```"
   ]
  },
  {
   "cell_type": "code",
   "execution_count": 808,
   "metadata": {
    "ExecuteTime": {
     "end_time": "2019-09-09T01:40:02.638703Z",
     "start_time": "2019-09-09T01:40:02.454643Z"
    },
    "colab": {},
    "colab_type": "code",
    "id": "hOEZafxahXr9",
    "scrolled": false
   },
   "outputs": [
    {
     "data": {
      "text/html": [
       "<div>\n",
       "<style scoped>\n",
       "    .dataframe tbody tr th:only-of-type {\n",
       "        vertical-align: middle;\n",
       "    }\n",
       "\n",
       "    .dataframe tbody tr th {\n",
       "        vertical-align: top;\n",
       "    }\n",
       "\n",
       "    .dataframe thead th {\n",
       "        text-align: right;\n",
       "    }\n",
       "</style>\n",
       "<table border=\"1\" class=\"dataframe\">\n",
       "  <thead>\n",
       "    <tr style=\"text-align: right;\">\n",
       "      <th></th>\n",
       "      <th>YYY/MM/DD</th>\n",
       "      <th>HH:mm:SS.ss</th>\n",
       "      <th>ET</th>\n",
       "      <th>GT</th>\n",
       "      <th>MAG</th>\n",
       "      <th>M</th>\n",
       "      <th>LAT</th>\n",
       "      <th>LON</th>\n",
       "      <th>DEPTH</th>\n",
       "      <th>Q</th>\n",
       "      <th>EVID</th>\n",
       "      <th>NPH</th>\n",
       "      <th>NGRM</th>\n",
       "    </tr>\n",
       "  </thead>\n",
       "  <tbody>\n",
       "    <tr>\n",
       "      <th>0</th>\n",
       "      <td>1984/01/01</td>\n",
       "      <td>00:25:08.58</td>\n",
       "      <td>eq</td>\n",
       "      <td>l</td>\n",
       "      <td>1.88</td>\n",
       "      <td>c</td>\n",
       "      <td>34.053</td>\n",
       "      <td>-117.247</td>\n",
       "      <td>13.3</td>\n",
       "      <td>C</td>\n",
       "      <td>28253</td>\n",
       "      <td>14</td>\n",
       "      <td>26</td>\n",
       "    </tr>\n",
       "    <tr>\n",
       "      <th>1</th>\n",
       "      <td>1984/01/01</td>\n",
       "      <td>01:30:57.52</td>\n",
       "      <td>eq</td>\n",
       "      <td>l</td>\n",
       "      <td>2.02</td>\n",
       "      <td>c</td>\n",
       "      <td>33.246</td>\n",
       "      <td>-116.433</td>\n",
       "      <td>1.6</td>\n",
       "      <td>C</td>\n",
       "      <td>28255</td>\n",
       "      <td>13</td>\n",
       "      <td>17</td>\n",
       "    </tr>\n",
       "    <tr>\n",
       "      <th>2</th>\n",
       "      <td>1984/01/01</td>\n",
       "      <td>04:44:18.55</td>\n",
       "      <td>eq</td>\n",
       "      <td>l</td>\n",
       "      <td>1.87</td>\n",
       "      <td>c</td>\n",
       "      <td>34.068</td>\n",
       "      <td>-117.323</td>\n",
       "      <td>16.3</td>\n",
       "      <td>C</td>\n",
       "      <td>28258</td>\n",
       "      <td>17</td>\n",
       "      <td>21</td>\n",
       "    </tr>\n",
       "    <tr>\n",
       "      <th>3</th>\n",
       "      <td>1984/01/01</td>\n",
       "      <td>05:31:34.16</td>\n",
       "      <td>eq</td>\n",
       "      <td>l</td>\n",
       "      <td>2.12</td>\n",
       "      <td>c</td>\n",
       "      <td>32.945</td>\n",
       "      <td>-116.295</td>\n",
       "      <td>5.4</td>\n",
       "      <td>C</td>\n",
       "      <td>28259</td>\n",
       "      <td>18</td>\n",
       "      <td>42</td>\n",
       "    </tr>\n",
       "    <tr>\n",
       "      <th>4</th>\n",
       "      <td>1984/01/01</td>\n",
       "      <td>06:59:05.14</td>\n",
       "      <td>eq</td>\n",
       "      <td>l</td>\n",
       "      <td>2.43</td>\n",
       "      <td>c</td>\n",
       "      <td>33.343</td>\n",
       "      <td>-117.628</td>\n",
       "      <td>5.6</td>\n",
       "      <td>C</td>\n",
       "      <td>28260</td>\n",
       "      <td>13</td>\n",
       "      <td>30</td>\n",
       "    </tr>\n",
       "  </tbody>\n",
       "</table>\n",
       "</div>"
      ],
      "text/plain": [
       "    YYY/MM/DD  HH:mm:SS.ss  ET GT   MAG  M     LAT      LON  DEPTH  Q   EVID  \\\n",
       "0  1984/01/01  00:25:08.58  eq  l  1.88  c  34.053 -117.247   13.3  C  28253   \n",
       "1  1984/01/01  01:30:57.52  eq  l  2.02  c  33.246 -116.433    1.6  C  28255   \n",
       "2  1984/01/01  04:44:18.55  eq  l  1.87  c  34.068 -117.323   16.3  C  28258   \n",
       "3  1984/01/01  05:31:34.16  eq  l  2.12  c  32.945 -116.295    5.4  C  28259   \n",
       "4  1984/01/01  06:59:05.14  eq  l  2.43  c  33.343 -117.628    5.6  C  28260   \n",
       "\n",
       "   NPH  NGRM  \n",
       "0   14    26  \n",
       "1   13    17  \n",
       "2   17    21  \n",
       "3   18    42  \n",
       "4   13    30  "
      ]
     },
     "execution_count": 808,
     "metadata": {},
     "output_type": "execute_result"
    }
   ],
   "source": [
    "#your code here...\n",
    "# all earthquake events  \n",
    "eqall = pd.read_csv(\"eqall.csv\", delim_whitespace=True, comment=\"#\")\n",
    "eqall.head()"
   ]
  },
  {
   "cell_type": "code",
   "execution_count": 815,
   "metadata": {},
   "outputs": [],
   "source": [
    "# select where MAG>=2 save as eqdata\n",
    "eqdata = eqall[eqall.MAG >= 2]"
   ]
  },
  {
   "cell_type": "markdown",
   "metadata": {
    "colab_type": "text",
    "id": "r0IW9m4vhXr_"
   },
   "source": [
    "running the following lines of code should give you the same result as mine if you used the file I provided (467 students), and qualitatively  similar if you are using your own data (667 students)"
   ]
  },
  {
   "cell_type": "code",
   "execution_count": 816,
   "metadata": {
    "ExecuteTime": {
     "end_time": "2019-09-09T01:40:02.643428Z",
     "start_time": "2019-09-09T01:40:02.640847Z"
    },
    "colab": {
     "base_uri": "https://localhost:8080/",
     "height": 34
    },
    "colab_type": "code",
    "id": "uphAqv5ZhXsA",
    "outputId": "a9f6d035-4a52-49f3-cedb-635e2527c43c",
    "scrolled": true
   },
   "outputs": [
    {
     "data": {
      "text/plain": [
       "(70798, 13)"
      ]
     },
     "execution_count": 816,
     "metadata": {},
     "output_type": "execute_result"
    }
   ],
   "source": [
    "eqdata.shape"
   ]
  },
  {
   "cell_type": "code",
   "execution_count": 817,
   "metadata": {
    "ExecuteTime": {
     "end_time": "2019-09-09T01:40:02.661139Z",
     "start_time": "2019-09-09T01:40:02.644720Z"
    },
    "colab": {
     "base_uri": "https://localhost:8080/",
     "height": 241
    },
    "colab_type": "code",
    "id": "9CHqm426hXsC",
    "outputId": "fe2becaa-ef0a-49ee-8c8a-f1edadd424e7"
   },
   "outputs": [
    {
     "data": {
      "text/html": [
       "<div>\n",
       "<style scoped>\n",
       "    .dataframe tbody tr th:only-of-type {\n",
       "        vertical-align: middle;\n",
       "    }\n",
       "\n",
       "    .dataframe tbody tr th {\n",
       "        vertical-align: top;\n",
       "    }\n",
       "\n",
       "    .dataframe thead th {\n",
       "        text-align: right;\n",
       "    }\n",
       "</style>\n",
       "<table border=\"1\" class=\"dataframe\">\n",
       "  <thead>\n",
       "    <tr style=\"text-align: right;\">\n",
       "      <th></th>\n",
       "      <th>YYY/MM/DD</th>\n",
       "      <th>HH:mm:SS.ss</th>\n",
       "      <th>ET</th>\n",
       "      <th>GT</th>\n",
       "      <th>MAG</th>\n",
       "      <th>M</th>\n",
       "      <th>LAT</th>\n",
       "      <th>LON</th>\n",
       "      <th>DEPTH</th>\n",
       "      <th>Q</th>\n",
       "      <th>EVID</th>\n",
       "      <th>NPH</th>\n",
       "      <th>NGRM</th>\n",
       "    </tr>\n",
       "  </thead>\n",
       "  <tbody>\n",
       "    <tr>\n",
       "      <th>1</th>\n",
       "      <td>1984/01/01</td>\n",
       "      <td>01:30:57.52</td>\n",
       "      <td>eq</td>\n",
       "      <td>l</td>\n",
       "      <td>2.02</td>\n",
       "      <td>c</td>\n",
       "      <td>33.246</td>\n",
       "      <td>-116.433</td>\n",
       "      <td>1.6</td>\n",
       "      <td>C</td>\n",
       "      <td>28255</td>\n",
       "      <td>13</td>\n",
       "      <td>17</td>\n",
       "    </tr>\n",
       "    <tr>\n",
       "      <th>3</th>\n",
       "      <td>1984/01/01</td>\n",
       "      <td>05:31:34.16</td>\n",
       "      <td>eq</td>\n",
       "      <td>l</td>\n",
       "      <td>2.12</td>\n",
       "      <td>c</td>\n",
       "      <td>32.945</td>\n",
       "      <td>-116.295</td>\n",
       "      <td>5.4</td>\n",
       "      <td>C</td>\n",
       "      <td>28259</td>\n",
       "      <td>18</td>\n",
       "      <td>42</td>\n",
       "    </tr>\n",
       "    <tr>\n",
       "      <th>4</th>\n",
       "      <td>1984/01/01</td>\n",
       "      <td>06:59:05.14</td>\n",
       "      <td>eq</td>\n",
       "      <td>l</td>\n",
       "      <td>2.43</td>\n",
       "      <td>c</td>\n",
       "      <td>33.343</td>\n",
       "      <td>-117.628</td>\n",
       "      <td>5.6</td>\n",
       "      <td>C</td>\n",
       "      <td>28260</td>\n",
       "      <td>13</td>\n",
       "      <td>30</td>\n",
       "    </tr>\n",
       "    <tr>\n",
       "      <th>8</th>\n",
       "      <td>1984/01/01</td>\n",
       "      <td>11:10:25.29</td>\n",
       "      <td>eq</td>\n",
       "      <td>l</td>\n",
       "      <td>2.07</td>\n",
       "      <td>c</td>\n",
       "      <td>33.668</td>\n",
       "      <td>-116.780</td>\n",
       "      <td>13.8</td>\n",
       "      <td>C</td>\n",
       "      <td>28270</td>\n",
       "      <td>19</td>\n",
       "      <td>40</td>\n",
       "    </tr>\n",
       "    <tr>\n",
       "      <th>16</th>\n",
       "      <td>1984/01/01</td>\n",
       "      <td>19:38:19.79</td>\n",
       "      <td>eq</td>\n",
       "      <td>l</td>\n",
       "      <td>2.13</td>\n",
       "      <td>c</td>\n",
       "      <td>33.963</td>\n",
       "      <td>-116.290</td>\n",
       "      <td>2.7</td>\n",
       "      <td>C</td>\n",
       "      <td>28553</td>\n",
       "      <td>40</td>\n",
       "      <td>49</td>\n",
       "    </tr>\n",
       "  </tbody>\n",
       "</table>\n",
       "</div>"
      ],
      "text/plain": [
       "     YYY/MM/DD  HH:mm:SS.ss  ET GT   MAG  M     LAT      LON  DEPTH  Q   EVID  \\\n",
       "1   1984/01/01  01:30:57.52  eq  l  2.02  c  33.246 -116.433    1.6  C  28255   \n",
       "3   1984/01/01  05:31:34.16  eq  l  2.12  c  32.945 -116.295    5.4  C  28259   \n",
       "4   1984/01/01  06:59:05.14  eq  l  2.43  c  33.343 -117.628    5.6  C  28260   \n",
       "8   1984/01/01  11:10:25.29  eq  l  2.07  c  33.668 -116.780   13.8  C  28270   \n",
       "16  1984/01/01  19:38:19.79  eq  l  2.13  c  33.963 -116.290    2.7  C  28553   \n",
       "\n",
       "    NPH  NGRM  \n",
       "1    13    17  \n",
       "3    18    42  \n",
       "4    13    30  \n",
       "8    19    40  \n",
       "16   40    49  "
      ]
     },
     "execution_count": 817,
     "metadata": {},
     "output_type": "execute_result"
    }
   ],
   "source": [
    "eqdata.head()"
   ]
  },
  {
   "cell_type": "code",
   "execution_count": 818,
   "metadata": {
    "ExecuteTime": {
     "end_time": "2019-09-09T01:40:02.759957Z",
     "start_time": "2019-09-09T01:40:02.662327Z"
    },
    "colab": {
     "base_uri": "https://localhost:8080/",
     "height": 334
    },
    "colab_type": "code",
    "id": "405C-Y8_hXsD",
    "outputId": "96cd6bf2-aec4-4c8f-94ad-d3e7d68dd409"
   },
   "outputs": [
    {
     "data": {
      "text/html": [
       "<div>\n",
       "<style scoped>\n",
       "    .dataframe tbody tr th:only-of-type {\n",
       "        vertical-align: middle;\n",
       "    }\n",
       "\n",
       "    .dataframe tbody tr th {\n",
       "        vertical-align: top;\n",
       "    }\n",
       "\n",
       "    .dataframe thead th {\n",
       "        text-align: right;\n",
       "    }\n",
       "</style>\n",
       "<table border=\"1\" class=\"dataframe\">\n",
       "  <thead>\n",
       "    <tr style=\"text-align: right;\">\n",
       "      <th></th>\n",
       "      <th>MAG</th>\n",
       "      <th>LAT</th>\n",
       "      <th>LON</th>\n",
       "      <th>DEPTH</th>\n",
       "      <th>EVID</th>\n",
       "      <th>NPH</th>\n",
       "      <th>NGRM</th>\n",
       "    </tr>\n",
       "  </thead>\n",
       "  <tbody>\n",
       "    <tr>\n",
       "      <th>count</th>\n",
       "      <td>70798.000000</td>\n",
       "      <td>70798.000000</td>\n",
       "      <td>70798.00000</td>\n",
       "      <td>70798.000000</td>\n",
       "      <td>7.079800e+04</td>\n",
       "      <td>70798.000000</td>\n",
       "      <td>70798.000000</td>\n",
       "    </tr>\n",
       "    <tr>\n",
       "      <th>mean</th>\n",
       "      <td>2.417826</td>\n",
       "      <td>33.977749</td>\n",
       "      <td>-116.88145</td>\n",
       "      <td>5.707677</td>\n",
       "      <td>3.699163e+06</td>\n",
       "      <td>30.424376</td>\n",
       "      <td>175.725049</td>\n",
       "    </tr>\n",
       "    <tr>\n",
       "      <th>std</th>\n",
       "      <td>0.407683</td>\n",
       "      <td>1.156586</td>\n",
       "      <td>1.07667</td>\n",
       "      <td>3.842620</td>\n",
       "      <td>3.495378e+06</td>\n",
       "      <td>22.374143</td>\n",
       "      <td>226.196774</td>\n",
       "    </tr>\n",
       "    <tr>\n",
       "      <th>min</th>\n",
       "      <td>2.000000</td>\n",
       "      <td>30.094830</td>\n",
       "      <td>-121.76000</td>\n",
       "      <td>0.000000</td>\n",
       "      <td>2.825500e+04</td>\n",
       "      <td>0.000000</td>\n",
       "      <td>0.000000</td>\n",
       "    </tr>\n",
       "    <tr>\n",
       "      <th>25%</th>\n",
       "      <td>2.120000</td>\n",
       "      <td>33.061000</td>\n",
       "      <td>-117.69200</td>\n",
       "      <td>3.100000</td>\n",
       "      <td>7.380962e+05</td>\n",
       "      <td>15.000000</td>\n",
       "      <td>59.000000</td>\n",
       "    </tr>\n",
       "    <tr>\n",
       "      <th>50%</th>\n",
       "      <td>2.300000</td>\n",
       "      <td>34.056750</td>\n",
       "      <td>-116.59000</td>\n",
       "      <td>5.300000</td>\n",
       "      <td>3.049477e+06</td>\n",
       "      <td>24.000000</td>\n",
       "      <td>111.000000</td>\n",
       "    </tr>\n",
       "    <tr>\n",
       "      <th>75%</th>\n",
       "      <td>2.590000</td>\n",
       "      <td>34.591000</td>\n",
       "      <td>-116.25100</td>\n",
       "      <td>6.900000</td>\n",
       "      <td>3.325926e+06</td>\n",
       "      <td>39.000000</td>\n",
       "      <td>211.000000</td>\n",
       "    </tr>\n",
       "    <tr>\n",
       "      <th>max</th>\n",
       "      <td>7.100000</td>\n",
       "      <td>37.985500</td>\n",
       "      <td>-113.71900</td>\n",
       "      <td>29.300000</td>\n",
       "      <td>3.736673e+07</td>\n",
       "      <td>406.000000</td>\n",
       "      <td>3815.000000</td>\n",
       "    </tr>\n",
       "  </tbody>\n",
       "</table>\n",
       "</div>"
      ],
      "text/plain": [
       "                MAG           LAT          LON         DEPTH          EVID  \\\n",
       "count  70798.000000  70798.000000  70798.00000  70798.000000  7.079800e+04   \n",
       "mean       2.417826     33.977749   -116.88145      5.707677  3.699163e+06   \n",
       "std        0.407683      1.156586      1.07667      3.842620  3.495378e+06   \n",
       "min        2.000000     30.094830   -121.76000      0.000000  2.825500e+04   \n",
       "25%        2.120000     33.061000   -117.69200      3.100000  7.380962e+05   \n",
       "50%        2.300000     34.056750   -116.59000      5.300000  3.049477e+06   \n",
       "75%        2.590000     34.591000   -116.25100      6.900000  3.325926e+06   \n",
       "max        7.100000     37.985500   -113.71900     29.300000  3.736673e+07   \n",
       "\n",
       "                NPH          NGRM  \n",
       "count  70798.000000  70798.000000  \n",
       "mean      30.424376    175.725049  \n",
       "std       22.374143    226.196774  \n",
       "min        0.000000      0.000000  \n",
       "25%       15.000000     59.000000  \n",
       "50%       24.000000    111.000000  \n",
       "75%       39.000000    211.000000  \n",
       "max      406.000000   3815.000000  "
      ]
     },
     "execution_count": 818,
     "metadata": {},
     "output_type": "execute_result"
    }
   ],
   "source": [
    "eqdata.describe()"
   ]
  },
  {
   "cell_type": "markdown",
   "metadata": {
    "ExecuteTime": {
     "end_time": "2019-09-08T21:24:56.161634Z",
     "start_time": "2019-09-08T21:24:56.157793Z"
    },
    "colab_type": "text",
    "id": "08Ty-hUOhXsG"
   },
   "source": [
    "now that you have a dataframe object you can use methods of the object to modify it. Use the method ```eqdata.rename``` to change the names of the 3 columns that are the only three relevant to us: _date, time, magnitude_"
   ]
  },
  {
   "cell_type": "markdown",
   "metadata": {
    "colab_type": "text",
    "id": "dYP53BzDhXsG"
   },
   "source": [
    "## prepare date-time column"
   ]
  },
  {
   "cell_type": "code",
   "execution_count": 819,
   "metadata": {
    "ExecuteTime": {
     "end_time": "2019-09-09T01:40:02.791776Z",
     "start_time": "2019-09-09T01:40:02.761489Z"
    },
    "colab": {},
    "colab_type": "code",
    "id": "WFIPxVG_hXsH"
   },
   "outputs": [],
   "source": [
    "# your code here...\n",
    "eqdata_prep = pd.DataFrame()\n",
    "eqdata_prep[['date', 'time', 'mag']] = eqdata[['YYY/MM/DD', 'HH:mm:SS.ss', 'MAG']]\n",
    "eqdata_prep = eqdata_prep.reset_index(drop=True)"
   ]
  },
  {
   "cell_type": "code",
   "execution_count": 820,
   "metadata": {
    "ExecuteTime": {
     "end_time": "2019-09-09T01:40:02.800191Z",
     "start_time": "2019-09-09T01:40:02.793424Z"
    },
    "colab": {
     "base_uri": "https://localhost:8080/",
     "height": 204
    },
    "colab_type": "code",
    "id": "vZ-NJ-C2hXsJ",
    "outputId": "76073453-18d5-40f0-b783-33c649777e9c"
   },
   "outputs": [
    {
     "data": {
      "text/html": [
       "<div>\n",
       "<style scoped>\n",
       "    .dataframe tbody tr th:only-of-type {\n",
       "        vertical-align: middle;\n",
       "    }\n",
       "\n",
       "    .dataframe tbody tr th {\n",
       "        vertical-align: top;\n",
       "    }\n",
       "\n",
       "    .dataframe thead th {\n",
       "        text-align: right;\n",
       "    }\n",
       "</style>\n",
       "<table border=\"1\" class=\"dataframe\">\n",
       "  <thead>\n",
       "    <tr style=\"text-align: right;\">\n",
       "      <th></th>\n",
       "      <th>date</th>\n",
       "      <th>time</th>\n",
       "      <th>mag</th>\n",
       "    </tr>\n",
       "  </thead>\n",
       "  <tbody>\n",
       "    <tr>\n",
       "      <th>0</th>\n",
       "      <td>1984/01/01</td>\n",
       "      <td>01:30:57.52</td>\n",
       "      <td>2.02</td>\n",
       "    </tr>\n",
       "    <tr>\n",
       "      <th>1</th>\n",
       "      <td>1984/01/01</td>\n",
       "      <td>05:31:34.16</td>\n",
       "      <td>2.12</td>\n",
       "    </tr>\n",
       "    <tr>\n",
       "      <th>2</th>\n",
       "      <td>1984/01/01</td>\n",
       "      <td>06:59:05.14</td>\n",
       "      <td>2.43</td>\n",
       "    </tr>\n",
       "    <tr>\n",
       "      <th>3</th>\n",
       "      <td>1984/01/01</td>\n",
       "      <td>11:10:25.29</td>\n",
       "      <td>2.07</td>\n",
       "    </tr>\n",
       "    <tr>\n",
       "      <th>4</th>\n",
       "      <td>1984/01/01</td>\n",
       "      <td>19:38:19.79</td>\n",
       "      <td>2.13</td>\n",
       "    </tr>\n",
       "  </tbody>\n",
       "</table>\n",
       "</div>"
      ],
      "text/plain": [
       "         date         time   mag\n",
       "0  1984/01/01  01:30:57.52  2.02\n",
       "1  1984/01/01  05:31:34.16  2.12\n",
       "2  1984/01/01  06:59:05.14  2.43\n",
       "3  1984/01/01  11:10:25.29  2.07\n",
       "4  1984/01/01  19:38:19.79  2.13"
      ]
     },
     "execution_count": 820,
     "metadata": {},
     "output_type": "execute_result"
    }
   ],
   "source": [
    "eqdata_prep.head()"
   ]
  },
  {
   "cell_type": "code",
   "execution_count": 821,
   "metadata": {
    "ExecuteTime": {
     "end_time": "2019-09-09T01:40:02.813328Z",
     "start_time": "2019-09-09T01:40:02.801494Z"
    },
    "colab": {
     "base_uri": "https://localhost:8080/",
     "height": 297
    },
    "colab_type": "code",
    "id": "BQHplE_shXsL",
    "outputId": "8fc02bda-b39c-4ac4-9fc2-60b5ab251de3"
   },
   "outputs": [
    {
     "data": {
      "text/html": [
       "<div>\n",
       "<style scoped>\n",
       "    .dataframe tbody tr th:only-of-type {\n",
       "        vertical-align: middle;\n",
       "    }\n",
       "\n",
       "    .dataframe tbody tr th {\n",
       "        vertical-align: top;\n",
       "    }\n",
       "\n",
       "    .dataframe thead th {\n",
       "        text-align: right;\n",
       "    }\n",
       "</style>\n",
       "<table border=\"1\" class=\"dataframe\">\n",
       "  <thead>\n",
       "    <tr style=\"text-align: right;\">\n",
       "      <th></th>\n",
       "      <th>mag</th>\n",
       "    </tr>\n",
       "  </thead>\n",
       "  <tbody>\n",
       "    <tr>\n",
       "      <th>count</th>\n",
       "      <td>70798.000000</td>\n",
       "    </tr>\n",
       "    <tr>\n",
       "      <th>mean</th>\n",
       "      <td>2.417826</td>\n",
       "    </tr>\n",
       "    <tr>\n",
       "      <th>std</th>\n",
       "      <td>0.407683</td>\n",
       "    </tr>\n",
       "    <tr>\n",
       "      <th>min</th>\n",
       "      <td>2.000000</td>\n",
       "    </tr>\n",
       "    <tr>\n",
       "      <th>25%</th>\n",
       "      <td>2.120000</td>\n",
       "    </tr>\n",
       "    <tr>\n",
       "      <th>50%</th>\n",
       "      <td>2.300000</td>\n",
       "    </tr>\n",
       "    <tr>\n",
       "      <th>75%</th>\n",
       "      <td>2.590000</td>\n",
       "    </tr>\n",
       "    <tr>\n",
       "      <th>max</th>\n",
       "      <td>7.100000</td>\n",
       "    </tr>\n",
       "  </tbody>\n",
       "</table>\n",
       "</div>"
      ],
      "text/plain": [
       "                mag\n",
       "count  70798.000000\n",
       "mean       2.417826\n",
       "std        0.407683\n",
       "min        2.000000\n",
       "25%        2.120000\n",
       "50%        2.300000\n",
       "75%        2.590000\n",
       "max        7.100000"
      ]
     },
     "execution_count": 821,
     "metadata": {},
     "output_type": "execute_result"
    }
   ],
   "source": [
    "eqdata_prep.describe()"
   ]
  },
  {
   "cell_type": "markdown",
   "metadata": {
    "colab_type": "text",
    "id": "EMiRblXihXsN"
   },
   "source": [
    "Now you want to combine the columns containing date and time and convert them to a \"datetime\" kind of data object. \n"
   ]
  },
  {
   "cell_type": "markdown",
   "metadata": {
    "ExecuteTime": {
     "end_time": "2019-09-08T21:26:57.438903Z",
     "start_time": "2019-09-08T21:26:57.435133Z"
    },
    "colab_type": "text",
    "id": "ZPOv1TJihXsN"
   },
   "source": [
    "What data type are the _time_ and _date_ columns right now? What tyoe you want them to be to conver them to datetime with ```pd.datetime()```?"
   ]
  },
  {
   "cell_type": "code",
   "execution_count": 822,
   "metadata": {
    "ExecuteTime": {
     "end_time": "2019-09-09T01:40:02.859962Z",
     "start_time": "2019-09-09T01:40:02.856654Z"
    },
    "colab": {
     "base_uri": "https://localhost:8080/",
     "height": 34
    },
    "colab_type": "code",
    "id": "sqfVbxyYhXsO",
    "outputId": "971f8fa1-8a51-4d37-af8e-5667b45aafdc"
   },
   "outputs": [
    {
     "data": {
      "text/plain": [
       "(dtype('O'), dtype('O'))"
      ]
     },
     "execution_count": 822,
     "metadata": {},
     "output_type": "execute_result"
    }
   ],
   "source": [
    "eqdata_prep.time.dtype, eqdata_prep.date.dtype"
   ]
  },
  {
   "cell_type": "markdown",
   "metadata": {
    "ExecuteTime": {
     "end_time": "2019-09-08T21:28:58.082172Z",
     "start_time": "2019-09-08T21:28:58.078926Z"
    },
    "colab_type": "text",
    "id": "O9qP9mRShXsP"
   },
   "source": [
    "to do this conversion I \n",
    "\n",
    "   1 joined date and time into a single string for each row with a [\"list comprehension\"](https://www.pythonforbeginners.com/basics/list-comprehensions-in-python) (essentially a for loop but more efficient and compact). You do not have to do it with a list comprehension, you can use just a for loop.\n",
    "\n",
    "   2 used pd.datetime() to convert the resulting new dataframe column into a dataframe column containing _datetime_ objects (see lab)\n",
    "\n",
    "   3 but this did not work because of the formatting of some dates, so I had to go back and fix 5 entries. (you are on your own to figure out this one)"
   ]
  },
  {
   "cell_type": "code",
   "execution_count": 823,
   "metadata": {
    "ExecuteTime": {
     "end_time": "2019-09-09T01:40:12.489690Z",
     "start_time": "2019-09-09T01:40:02.914845Z"
    },
    "colab": {},
    "colab_type": "code",
    "id": "eOUTqBDOhXsQ"
   },
   "outputs": [],
   "source": [
    "# your code here\n",
    "# combine data and time\n",
    "eqdata_prep['datetime'] = eqdata_prep['date'] +' ' + eqdata_prep['time']"
   ]
  },
  {
   "cell_type": "code",
   "execution_count": 824,
   "metadata": {},
   "outputs": [
    {
     "data": {
      "text/html": [
       "<div>\n",
       "<style scoped>\n",
       "    .dataframe tbody tr th:only-of-type {\n",
       "        vertical-align: middle;\n",
       "    }\n",
       "\n",
       "    .dataframe tbody tr th {\n",
       "        vertical-align: top;\n",
       "    }\n",
       "\n",
       "    .dataframe thead th {\n",
       "        text-align: right;\n",
       "    }\n",
       "</style>\n",
       "<table border=\"1\" class=\"dataframe\">\n",
       "  <thead>\n",
       "    <tr style=\"text-align: right;\">\n",
       "      <th></th>\n",
       "      <th>date</th>\n",
       "      <th>time</th>\n",
       "      <th>mag</th>\n",
       "      <th>datetime</th>\n",
       "    </tr>\n",
       "  </thead>\n",
       "  <tbody>\n",
       "    <tr>\n",
       "      <th>0</th>\n",
       "      <td>1984/01/01</td>\n",
       "      <td>01:30:57.52</td>\n",
       "      <td>2.02</td>\n",
       "      <td>1984/01/01 01:30:57.52</td>\n",
       "    </tr>\n",
       "    <tr>\n",
       "      <th>1</th>\n",
       "      <td>1984/01/01</td>\n",
       "      <td>05:31:34.16</td>\n",
       "      <td>2.12</td>\n",
       "      <td>1984/01/01 05:31:34.16</td>\n",
       "    </tr>\n",
       "    <tr>\n",
       "      <th>2</th>\n",
       "      <td>1984/01/01</td>\n",
       "      <td>06:59:05.14</td>\n",
       "      <td>2.43</td>\n",
       "      <td>1984/01/01 06:59:05.14</td>\n",
       "    </tr>\n",
       "    <tr>\n",
       "      <th>3</th>\n",
       "      <td>1984/01/01</td>\n",
       "      <td>11:10:25.29</td>\n",
       "      <td>2.07</td>\n",
       "      <td>1984/01/01 11:10:25.29</td>\n",
       "    </tr>\n",
       "    <tr>\n",
       "      <th>4</th>\n",
       "      <td>1984/01/01</td>\n",
       "      <td>19:38:19.79</td>\n",
       "      <td>2.13</td>\n",
       "      <td>1984/01/01 19:38:19.79</td>\n",
       "    </tr>\n",
       "  </tbody>\n",
       "</table>\n",
       "</div>"
      ],
      "text/plain": [
       "         date         time   mag                datetime\n",
       "0  1984/01/01  01:30:57.52  2.02  1984/01/01 01:30:57.52\n",
       "1  1984/01/01  05:31:34.16  2.12  1984/01/01 05:31:34.16\n",
       "2  1984/01/01  06:59:05.14  2.43  1984/01/01 06:59:05.14\n",
       "3  1984/01/01  11:10:25.29  2.07  1984/01/01 11:10:25.29\n",
       "4  1984/01/01  19:38:19.79  2.13  1984/01/01 19:38:19.79"
      ]
     },
     "execution_count": 824,
     "metadata": {},
     "output_type": "execute_result"
    }
   ],
   "source": [
    "eqdata_prep.head()"
   ]
  },
  {
   "cell_type": "code",
   "execution_count": 826,
   "metadata": {},
   "outputs": [
    {
     "data": {
      "text/plain": [
       "'1984/08/09 04:48:60.00'"
      ]
     },
     "execution_count": 826,
     "metadata": {},
     "output_type": "execute_result"
    }
   ],
   "source": [
    "# several datetime are in wrong formats we can just drop them later\n",
    "eqdata_prep['datetime'][1723] # one example of time in wrong format"
   ]
  },
  {
   "cell_type": "code",
   "execution_count": 828,
   "metadata": {},
   "outputs": [],
   "source": [
    "# convert to pandas datatime object, use 'coerce' to return NaT for wrong time format\n",
    "eqdata_prep['datetime'] = pd.to_datetime(eqdata_prep['datetime'], errors='coerce')\n",
    "eqdata_prep = eqdata_prep.dropna() "
   ]
  },
  {
   "cell_type": "code",
   "execution_count": 829,
   "metadata": {},
   "outputs": [
    {
     "data": {
      "text/plain": [
       "(70793, 4)"
      ]
     },
     "execution_count": 829,
     "metadata": {},
     "output_type": "execute_result"
    }
   ],
   "source": [
    "eqdata_prep.shape"
   ]
  },
  {
   "cell_type": "code",
   "execution_count": 830,
   "metadata": {
    "scrolled": false
   },
   "outputs": [
    {
     "data": {
      "text/html": [
       "<div>\n",
       "<style scoped>\n",
       "    .dataframe tbody tr th:only-of-type {\n",
       "        vertical-align: middle;\n",
       "    }\n",
       "\n",
       "    .dataframe tbody tr th {\n",
       "        vertical-align: top;\n",
       "    }\n",
       "\n",
       "    .dataframe thead th {\n",
       "        text-align: right;\n",
       "    }\n",
       "</style>\n",
       "<table border=\"1\" class=\"dataframe\">\n",
       "  <thead>\n",
       "    <tr style=\"text-align: right;\">\n",
       "      <th></th>\n",
       "      <th>date</th>\n",
       "      <th>time</th>\n",
       "      <th>mag</th>\n",
       "      <th>datetime</th>\n",
       "    </tr>\n",
       "  </thead>\n",
       "  <tbody>\n",
       "    <tr>\n",
       "      <th>0</th>\n",
       "      <td>1984/01/01</td>\n",
       "      <td>01:30:57.52</td>\n",
       "      <td>2.02</td>\n",
       "      <td>1984-01-01 01:30:57.520</td>\n",
       "    </tr>\n",
       "    <tr>\n",
       "      <th>1</th>\n",
       "      <td>1984/01/01</td>\n",
       "      <td>05:31:34.16</td>\n",
       "      <td>2.12</td>\n",
       "      <td>1984-01-01 05:31:34.160</td>\n",
       "    </tr>\n",
       "    <tr>\n",
       "      <th>2</th>\n",
       "      <td>1984/01/01</td>\n",
       "      <td>06:59:05.14</td>\n",
       "      <td>2.43</td>\n",
       "      <td>1984-01-01 06:59:05.140</td>\n",
       "    </tr>\n",
       "    <tr>\n",
       "      <th>3</th>\n",
       "      <td>1984/01/01</td>\n",
       "      <td>11:10:25.29</td>\n",
       "      <td>2.07</td>\n",
       "      <td>1984-01-01 11:10:25.290</td>\n",
       "    </tr>\n",
       "    <tr>\n",
       "      <th>4</th>\n",
       "      <td>1984/01/01</td>\n",
       "      <td>19:38:19.79</td>\n",
       "      <td>2.13</td>\n",
       "      <td>1984-01-01 19:38:19.790</td>\n",
       "    </tr>\n",
       "  </tbody>\n",
       "</table>\n",
       "</div>"
      ],
      "text/plain": [
       "         date         time   mag                datetime\n",
       "0  1984/01/01  01:30:57.52  2.02 1984-01-01 01:30:57.520\n",
       "1  1984/01/01  05:31:34.16  2.12 1984-01-01 05:31:34.160\n",
       "2  1984/01/01  06:59:05.14  2.43 1984-01-01 06:59:05.140\n",
       "3  1984/01/01  11:10:25.29  2.07 1984-01-01 11:10:25.290\n",
       "4  1984/01/01  19:38:19.79  2.13 1984-01-01 19:38:19.790"
      ]
     },
     "execution_count": 830,
     "metadata": {},
     "output_type": "execute_result"
    }
   ],
   "source": [
    "eqdata_prep.head()"
   ]
  },
  {
   "cell_type": "markdown",
   "metadata": {
    "colab_type": "text",
    "id": "zAmaMzQIhXsW"
   },
   "source": [
    "## select valuable data"
   ]
  },
  {
   "cell_type": "markdown",
   "metadata": {
    "colab_type": "text",
    "id": "R3kga7VvhXsZ"
   },
   "source": [
    "Following the description in Section 2  of Corral 2018 I removed all data that did not belong to a \"stationary\" period. Third paragraph section 2 of Corral 2018. You can see the cell of code I used to do this [here](https://github.com/fedhere/DSPS/blob/master/HW3/Corral2018_selectStationary.py) at no points cost, cause it was a bit tricky, but I encourage you to try and do it yourself. If you can do it in fewer lines than I did its automatically +5 points (just turning the loop into a list comprehension does not count. That is an obvious way to decrease the number of lines of code; I did not do it simply to enhance readability.)"
   ]
  },
  {
   "cell_type": "code",
   "execution_count": 831,
   "metadata": {
    "scrolled": false
   },
   "outputs": [
    {
     "data": {
      "text/plain": [
       "DatetimeIndex(['2002-07-02 12:00:00'], dtype='datetime64[ns]', freq=None)"
      ]
     },
     "execution_count": 831,
     "metadata": {},
     "output_type": "execute_result"
    }
   ],
   "source": [
    "# use this comand to convert the time of stationary periods in paper to DateTimeIndex\n",
    "pd.to_datetime(arg=[0.5*365], unit='d', origin='2002-01-01')\n"
   ]
  },
  {
   "cell_type": "code",
   "execution_count": 832,
   "metadata": {},
   "outputs": [],
   "source": [
    "# all stationary periods \n",
    "st_begin = ['1984-01-01', '1990-04-20', '1994-08-08', '1996-02-06', \n",
    "            '1997-01-01', '1997-10-01', '1998-04-02', '2000-07-19', \n",
    "            '2000-11-24', '2001-08-08', '2002-07-02']\n",
    "st_end = ['1986-07-02', '1992-02-06', '1995-08-08', '1996-07-01', \n",
    "          '1997-08-08', '1998-02-24', '1999-05-08', '2000-10-19', \n",
    "          '2001-04-02', '2002-01-1', '2002-12-31']\n"
   ]
  },
  {
   "cell_type": "code",
   "execution_count": 833,
   "metadata": {},
   "outputs": [
    {
     "name": "stdout",
     "output_type": "stream",
     "text": [
      "stationary period 0 1984-01-01 1986-07-02 enents 6171\n",
      "stationary period 1 1990-04-20 1992-02-06 enents 3131\n",
      "stationary period 2 1994-08-08 1995-08-08 enents 1785\n",
      "stationary period 3 1996-02-06 1996-07-01 enents 699\n",
      "stationary period 4 1997-01-01 1997-08-08 enents 1365\n",
      "stationary period 5 1997-10-01 1998-02-24 enents 813\n",
      "stationary period 6 1998-04-02 1999-05-08 enents 2321\n",
      "stationary period 7 2000-07-19 2000-10-19 enents 420\n",
      "stationary period 8 2000-11-24 2001-04-02 enents 749\n",
      "stationary period 9 2001-08-08 2002-01-1 enents 799\n",
      "stationary period 10 2002-07-02 2002-12-31 enents 658\n"
     ]
    }
   ],
   "source": [
    "# select data within stationary periods and calculate the gaps \n",
    "df = eqdata_prep\n",
    "df = df.set_index(df['datetime'])\n",
    "df_good = []\n",
    "for i_,stb in enumerate(st_begin):\n",
    "    # select the events during stationary period\n",
    "    df_st = df.loc[st_begin[i_]:st_end[i_]]\n",
    "    print('stationary period',i_, st_begin[i_],st_end[i_], 'enents', len(df_st.index))\n",
    "\n",
    "    # calculate gaps and drop the first item\n",
    "    gaps = np.diff(df_st['datetime'].astype(int)) # show in int format \n",
    "    #gaps = np.diff(df_st['datetime'])   # show in time format\n",
    "    df_st_withgaps = df_st.drop(df_st.index[0]) # drop the first term\n",
    "    df_st_withgaps['gaps'] = gaps\n",
    "    df_good.append(df_st_withgaps)\n",
    "\n",
    "# stack all events within periods\n",
    "eqGoodData = pd.concat(df_good)"
   ]
  },
  {
   "cell_type": "code",
   "execution_count": 479,
   "metadata": {
    "ExecuteTime": {
     "end_time": "2019-09-09T01:40:29.270985Z",
     "start_time": "2019-09-09T01:40:29.267738Z"
    },
    "colab": {
     "base_uri": "https://localhost:8080/",
     "height": 34
    },
    "colab_type": "code",
    "id": "WHyQm6CqhXsl",
    "outputId": "226d868c-0564-40b6-b541-99173763d8b0"
   },
   "outputs": [
    {
     "name": "stdout",
     "output_type": "stream",
     "text": [
      "there are 18900 earthquakes falling in the selected stationary periods\n"
     ]
    }
   ],
   "source": [
    "print (\"there are {} earthquakes falling in the selected stationary periods\".\n",
    "       format(len(eqGoodData['datetime'])))\n"
   ]
  },
  {
   "cell_type": "code",
   "execution_count": 834,
   "metadata": {
    "colab": {
     "base_uri": "https://localhost:8080/",
     "height": 34
    },
    "colab_type": "code",
    "id": "a6f-j9ThoMUC",
    "outputId": "b04dac70-a267-46ab-b328-08a59c9cae07",
    "scrolled": false
   },
   "outputs": [
    {
     "data": {
      "text/plain": [
       "(18900, 5)"
      ]
     },
     "execution_count": 834,
     "metadata": {},
     "output_type": "execute_result"
    }
   ],
   "source": [
    "eqGoodData.shape"
   ]
  },
  {
   "cell_type": "code",
   "execution_count": 835,
   "metadata": {
    "colab": {
     "base_uri": "https://localhost:8080/",
     "height": 204
    },
    "colab_type": "code",
    "id": "BavypriTXcUV",
    "outputId": "99c6c38f-2743-4d83-fa80-1f38431f09c0"
   },
   "outputs": [
    {
     "data": {
      "text/html": [
       "<div>\n",
       "<style scoped>\n",
       "    .dataframe tbody tr th:only-of-type {\n",
       "        vertical-align: middle;\n",
       "    }\n",
       "\n",
       "    .dataframe tbody tr th {\n",
       "        vertical-align: top;\n",
       "    }\n",
       "\n",
       "    .dataframe thead th {\n",
       "        text-align: right;\n",
       "    }\n",
       "</style>\n",
       "<table border=\"1\" class=\"dataframe\">\n",
       "  <thead>\n",
       "    <tr style=\"text-align: right;\">\n",
       "      <th></th>\n",
       "      <th>date</th>\n",
       "      <th>time</th>\n",
       "      <th>mag</th>\n",
       "      <th>datetime</th>\n",
       "      <th>gaps</th>\n",
       "    </tr>\n",
       "    <tr>\n",
       "      <th>datetime</th>\n",
       "      <th></th>\n",
       "      <th></th>\n",
       "      <th></th>\n",
       "      <th></th>\n",
       "      <th></th>\n",
       "    </tr>\n",
       "  </thead>\n",
       "  <tbody>\n",
       "    <tr>\n",
       "      <th>1984-01-01 05:31:34.160</th>\n",
       "      <td>1984/01/01</td>\n",
       "      <td>05:31:34.16</td>\n",
       "      <td>2.12</td>\n",
       "      <td>1984-01-01 05:31:34.160</td>\n",
       "      <td>14436640000000</td>\n",
       "    </tr>\n",
       "    <tr>\n",
       "      <th>1984-01-01 06:59:05.140</th>\n",
       "      <td>1984/01/01</td>\n",
       "      <td>06:59:05.14</td>\n",
       "      <td>2.43</td>\n",
       "      <td>1984-01-01 06:59:05.140</td>\n",
       "      <td>5250980000000</td>\n",
       "    </tr>\n",
       "    <tr>\n",
       "      <th>1984-01-01 11:10:25.290</th>\n",
       "      <td>1984/01/01</td>\n",
       "      <td>11:10:25.29</td>\n",
       "      <td>2.07</td>\n",
       "      <td>1984-01-01 11:10:25.290</td>\n",
       "      <td>15080150000000</td>\n",
       "    </tr>\n",
       "    <tr>\n",
       "      <th>1984-01-01 19:38:19.790</th>\n",
       "      <td>1984/01/01</td>\n",
       "      <td>19:38:19.79</td>\n",
       "      <td>2.13</td>\n",
       "      <td>1984-01-01 19:38:19.790</td>\n",
       "      <td>30474500000000</td>\n",
       "    </tr>\n",
       "    <tr>\n",
       "      <th>1984-01-01 19:39:19.670</th>\n",
       "      <td>1984/01/01</td>\n",
       "      <td>19:39:19.67</td>\n",
       "      <td>2.13</td>\n",
       "      <td>1984-01-01 19:39:19.670</td>\n",
       "      <td>59880000000</td>\n",
       "    </tr>\n",
       "  </tbody>\n",
       "</table>\n",
       "</div>"
      ],
      "text/plain": [
       "                               date         time   mag  \\\n",
       "datetime                                                 \n",
       "1984-01-01 05:31:34.160  1984/01/01  05:31:34.16  2.12   \n",
       "1984-01-01 06:59:05.140  1984/01/01  06:59:05.14  2.43   \n",
       "1984-01-01 11:10:25.290  1984/01/01  11:10:25.29  2.07   \n",
       "1984-01-01 19:38:19.790  1984/01/01  19:38:19.79  2.13   \n",
       "1984-01-01 19:39:19.670  1984/01/01  19:39:19.67  2.13   \n",
       "\n",
       "                                       datetime            gaps  \n",
       "datetime                                                         \n",
       "1984-01-01 05:31:34.160 1984-01-01 05:31:34.160  14436640000000  \n",
       "1984-01-01 06:59:05.140 1984-01-01 06:59:05.140   5250980000000  \n",
       "1984-01-01 11:10:25.290 1984-01-01 11:10:25.290  15080150000000  \n",
       "1984-01-01 19:38:19.790 1984-01-01 19:38:19.790  30474500000000  \n",
       "1984-01-01 19:39:19.670 1984-01-01 19:39:19.670     59880000000  "
      ]
     },
     "execution_count": 835,
     "metadata": {},
     "output_type": "execute_result"
    }
   ],
   "source": [
    "eqGoodData.head()"
   ]
  },
  {
   "cell_type": "code",
   "execution_count": 836,
   "metadata": {
    "colab": {
     "base_uri": "https://localhost:8080/",
     "height": 297
    },
    "colab_type": "code",
    "id": "pC2aJCuVXfM3",
    "outputId": "50afc47c-822b-48ca-9d86-d81cb38befb7",
    "scrolled": true
   },
   "outputs": [
    {
     "data": {
      "text/html": [
       "<div>\n",
       "<style scoped>\n",
       "    .dataframe tbody tr th:only-of-type {\n",
       "        vertical-align: middle;\n",
       "    }\n",
       "\n",
       "    .dataframe tbody tr th {\n",
       "        vertical-align: top;\n",
       "    }\n",
       "\n",
       "    .dataframe thead th {\n",
       "        text-align: right;\n",
       "    }\n",
       "</style>\n",
       "<table border=\"1\" class=\"dataframe\">\n",
       "  <thead>\n",
       "    <tr style=\"text-align: right;\">\n",
       "      <th></th>\n",
       "      <th>mag</th>\n",
       "      <th>gaps</th>\n",
       "    </tr>\n",
       "  </thead>\n",
       "  <tbody>\n",
       "    <tr>\n",
       "      <th>count</th>\n",
       "      <td>18900.000000</td>\n",
       "      <td>1.890000e+04</td>\n",
       "    </tr>\n",
       "    <tr>\n",
       "      <th>mean</th>\n",
       "      <td>2.399380</td>\n",
       "      <td>1.554400e+13</td>\n",
       "    </tr>\n",
       "    <tr>\n",
       "      <th>std</th>\n",
       "      <td>0.392395</td>\n",
       "      <td>1.882664e+13</td>\n",
       "    </tr>\n",
       "    <tr>\n",
       "      <th>min</th>\n",
       "      <td>2.000000</td>\n",
       "      <td>1.700000e+08</td>\n",
       "    </tr>\n",
       "    <tr>\n",
       "      <th>25%</th>\n",
       "      <td>2.110000</td>\n",
       "      <td>2.733615e+12</td>\n",
       "    </tr>\n",
       "    <tr>\n",
       "      <th>50%</th>\n",
       "      <td>2.290000</td>\n",
       "      <td>8.930935e+12</td>\n",
       "    </tr>\n",
       "    <tr>\n",
       "      <th>75%</th>\n",
       "      <td>2.562500</td>\n",
       "      <td>2.129492e+13</td>\n",
       "    </tr>\n",
       "    <tr>\n",
       "      <th>max</th>\n",
       "      <td>5.800000</td>\n",
       "      <td>2.365828e+14</td>\n",
       "    </tr>\n",
       "  </tbody>\n",
       "</table>\n",
       "</div>"
      ],
      "text/plain": [
       "                mag          gaps\n",
       "count  18900.000000  1.890000e+04\n",
       "mean       2.399380  1.554400e+13\n",
       "std        0.392395  1.882664e+13\n",
       "min        2.000000  1.700000e+08\n",
       "25%        2.110000  2.733615e+12\n",
       "50%        2.290000  8.930935e+12\n",
       "75%        2.562500  2.129492e+13\n",
       "max        5.800000  2.365828e+14"
      ]
     },
     "execution_count": 836,
     "metadata": {},
     "output_type": "execute_result"
    }
   ],
   "source": [
    "eqGoodData.describe()"
   ]
  },
  {
   "cell_type": "markdown",
   "metadata": {
    "colab_type": "text",
    "id": "wWmOXVyKhO9W"
   },
   "source": [
    "Note that the first entry will be NaT which is Not a Time (corresponding to nan for numerical variables) or maybe a negative number (depends on your exact operations above). You should remove it"
   ]
  },
  {
   "cell_type": "code",
   "execution_count": 0,
   "metadata": {
    "colab": {},
    "colab_type": "code",
    "id": "zqOLrvyc0_dL"
   },
   "outputs": [],
   "source": [
    "# your code here\n",
    "# already drop the first term in above "
   ]
  },
  {
   "cell_type": "code",
   "execution_count": 837,
   "metadata": {},
   "outputs": [
    {
     "data": {
      "text/html": [
       "<div>\n",
       "<style scoped>\n",
       "    .dataframe tbody tr th:only-of-type {\n",
       "        vertical-align: middle;\n",
       "    }\n",
       "\n",
       "    .dataframe tbody tr th {\n",
       "        vertical-align: top;\n",
       "    }\n",
       "\n",
       "    .dataframe thead th {\n",
       "        text-align: right;\n",
       "    }\n",
       "</style>\n",
       "<table border=\"1\" class=\"dataframe\">\n",
       "  <thead>\n",
       "    <tr style=\"text-align: right;\">\n",
       "      <th></th>\n",
       "      <th>date</th>\n",
       "      <th>time</th>\n",
       "      <th>mag</th>\n",
       "      <th>datetime</th>\n",
       "      <th>gaps</th>\n",
       "    </tr>\n",
       "    <tr>\n",
       "      <th>datetime</th>\n",
       "      <th></th>\n",
       "      <th></th>\n",
       "      <th></th>\n",
       "      <th></th>\n",
       "      <th></th>\n",
       "    </tr>\n",
       "  </thead>\n",
       "  <tbody>\n",
       "    <tr>\n",
       "      <th>1984-01-01 05:31:34.160</th>\n",
       "      <td>1984/01/01</td>\n",
       "      <td>05:31:34.16</td>\n",
       "      <td>2.12</td>\n",
       "      <td>1984-01-01 05:31:34.160</td>\n",
       "      <td>14436640000000</td>\n",
       "    </tr>\n",
       "    <tr>\n",
       "      <th>1984-01-01 06:59:05.140</th>\n",
       "      <td>1984/01/01</td>\n",
       "      <td>06:59:05.14</td>\n",
       "      <td>2.43</td>\n",
       "      <td>1984-01-01 06:59:05.140</td>\n",
       "      <td>5250980000000</td>\n",
       "    </tr>\n",
       "    <tr>\n",
       "      <th>1984-01-01 11:10:25.290</th>\n",
       "      <td>1984/01/01</td>\n",
       "      <td>11:10:25.29</td>\n",
       "      <td>2.07</td>\n",
       "      <td>1984-01-01 11:10:25.290</td>\n",
       "      <td>15080150000000</td>\n",
       "    </tr>\n",
       "    <tr>\n",
       "      <th>1984-01-01 19:38:19.790</th>\n",
       "      <td>1984/01/01</td>\n",
       "      <td>19:38:19.79</td>\n",
       "      <td>2.13</td>\n",
       "      <td>1984-01-01 19:38:19.790</td>\n",
       "      <td>30474500000000</td>\n",
       "    </tr>\n",
       "    <tr>\n",
       "      <th>1984-01-01 19:39:19.670</th>\n",
       "      <td>1984/01/01</td>\n",
       "      <td>19:39:19.67</td>\n",
       "      <td>2.13</td>\n",
       "      <td>1984-01-01 19:39:19.670</td>\n",
       "      <td>59880000000</td>\n",
       "    </tr>\n",
       "  </tbody>\n",
       "</table>\n",
       "</div>"
      ],
      "text/plain": [
       "                               date         time   mag  \\\n",
       "datetime                                                 \n",
       "1984-01-01 05:31:34.160  1984/01/01  05:31:34.16  2.12   \n",
       "1984-01-01 06:59:05.140  1984/01/01  06:59:05.14  2.43   \n",
       "1984-01-01 11:10:25.290  1984/01/01  11:10:25.29  2.07   \n",
       "1984-01-01 19:38:19.790  1984/01/01  19:38:19.79  2.13   \n",
       "1984-01-01 19:39:19.670  1984/01/01  19:39:19.67  2.13   \n",
       "\n",
       "                                       datetime            gaps  \n",
       "datetime                                                         \n",
       "1984-01-01 05:31:34.160 1984-01-01 05:31:34.160  14436640000000  \n",
       "1984-01-01 06:59:05.140 1984-01-01 06:59:05.140   5250980000000  \n",
       "1984-01-01 11:10:25.290 1984-01-01 11:10:25.290  15080150000000  \n",
       "1984-01-01 19:38:19.790 1984-01-01 19:38:19.790  30474500000000  \n",
       "1984-01-01 19:39:19.670 1984-01-01 19:39:19.670     59880000000  "
      ]
     },
     "execution_count": 837,
     "metadata": {},
     "output_type": "execute_result"
    }
   ],
   "source": [
    "# final prepared data\n",
    "eqGoodData.head()"
   ]
  },
  {
   "cell_type": "markdown",
   "metadata": {
    "colab_type": "text",
    "id": "M2VH6Q4xhXsw"
   },
   "source": [
    "# data exploration\n",
    "At this point you should wonder if this is the final dataset that you want to use and if anything is weird or suspicious about it. Visualize the distribution. A good way to visualize distributions is a histogram which you can prodice with pl.hist() or as a method of your dataframe series as ```df[SeriesName].plot(kind=\"hist\")```. Produce a plot like the one below (label the axis! and describe it with a caption!). To get the logarithmic y axis you can se ```logy=True```, for example. in your ```df[SeriesName].plot``` call."
   ]
  },
  {
   "cell_type": "code",
   "execution_count": 845,
   "metadata": {},
   "outputs": [
    {
     "data": {
      "image/png": "[encoded data removed]",
      "text/plain": [
       "<Figure size 432x288 with 1 Axes>"
      ]
     },
     "metadata": {},
     "output_type": "display_data"
    }
   ],
   "source": [
    "h_ = pl.hist(eqGoodData['gaps'], bins=50, density=False)"
   ]
  },
  {
   "cell_type": "code",
   "execution_count": 841,
   "metadata": {},
   "outputs": [
    {
     "data": {
      "image/png": "[encoded data removed]",
      "text/plain": [
       "<Figure size 432x288 with 1 Axes>"
      ]
     },
     "metadata": {},
     "output_type": "display_data"
    }
   ],
   "source": [
    "# in log \n",
    "h_ = pl.hist(np.log10(eqGoodData['gaps']), bins=50, density=False)\n"
   ]
  },
  {
   "cell_type": "markdown",
   "metadata": {
    "colab_type": "text",
    "id": "nuPhJkrozh91"
   },
   "source": [
    "The thing that worries me is that by removing some sections of the data to use only stationary periods we created some artificially large gaps: gaps of order ~month. How many nanoseconds in a month? remove all gaps that are larger than about a month and see how the distribution looks (make another histogram)."
   ]
  },
  {
   "cell_type": "code",
   "execution_count": 849,
   "metadata": {
    "colab": {},
    "colab_type": "code",
    "id": "0zuGOkWhzhDu"
   },
   "outputs": [
    {
     "data": {
      "image/png": "[encoded data removed]",
      "text/plain": [
       "<Figure size 432x288 with 1 Axes>"
      ]
     },
     "metadata": {},
     "output_type": "display_data"
    }
   ],
   "source": [
    "# your code here \n",
    "# remove gaps larger than a month  or 2.63*10^15 ns\n",
    "data = eqGoodData[(eqGoodData.gaps <= 2.63*10**15)]\n",
    "\n",
    "h_ = pl.hist(data['gaps'], bins=50, density=False, cumulative=False)"
   ]
  },
  {
   "cell_type": "markdown",
   "metadata": {
    "colab_type": "text",
    "id": "gn-HuVevYOo7"
   },
   "source": [
    "# data analysis"
   ]
  },
  {
   "cell_type": "markdown",
   "metadata": {
    "colab_type": "text",
    "id": "Q2xYwKRB2sx9"
   },
   "source": [
    "### important: the paper does not do it but I want you to formally choose a threshold before you do this test. Choose a p-value (=$\\alpha$ thresold: call your variable ```alpha```) of 3-$\\sigma$."
   ]
  },
  {
   "cell_type": "code",
   "execution_count": 753,
   "metadata": {},
   "outputs": [],
   "source": [
    "# set a threshold before test\n",
    "alpha = 0.05"
   ]
  },
  {
   "cell_type": "markdown",
   "metadata": {
    "colab_type": "text",
    "id": "pt5MAQEZhXsz"
   },
   "source": [
    "Follow the instructions (algorithm) in **Section 3 paragraph 3** and compare your results with the results in table 1 with a threshold  of = 0.01 and 0.001\n",
    "\n",
    "Do it for all 5 magnitude thresholds as indicated in the paper (and in Table 1).\n",
    "\n",
    "Note that the x axis in plot Fig 1 is in _log space_. Use ```np.log10()``` to take the logarithm of the time gaps.\n",
    "\n",
    "The pseudocode for the algorithm is [here](https://github.com/fedhere/DSPS/blob/master/HW3/Corral2018_pseudocode.md).\n"
   ]
  },
  {
   "cell_type": "markdown",
   "metadata": {
    "colab_type": "text",
    "id": "gXWK4x4FhXs1"
   },
   "source": [
    "Reproduce the paper Fig 1 and Table 1. In the Table report the size of each dataset after cleaning the value of the statistic and the p-value, as done in Corral 2018. Use the scipy function for the 2 sample KS test. (resources [here](https://colab.research.google.com/notebooks/markdown_guide.ipynb#scrollTo=70pYkR9LiOV0) to learn about the table syntax in markdown)"
   ]
  },
  {
   "cell_type": "code",
   "execution_count": 850,
   "metadata": {},
   "outputs": [],
   "source": [
    "def get_sample(m=0.01, M = [2.0, 2.5, 3.0, 3.5, 4.0]):\n",
    "    # get the scaled gaps from prepred data\n",
    "    sample_scaled = []\n",
    "    for Mi in M:\n",
    "        temp = eqGoodData[eqGoodData.mag >= Mi]\n",
    "        t_mean = np.mean(temp.gaps)\n",
    "        # remove small gaps\n",
    "        temp = temp[temp['gaps'] >= m*t_mean]\n",
    "        # scale by the new mean\n",
    "        t_mean = np.mean(temp.gaps)\n",
    "        gaps_scaled = temp['gaps'].values/t_mean\n",
    "        sample_scaled.append(gaps_scaled)\n",
    "    \n",
    "    return sample_scaled"
   ]
  },
  {
   "cell_type": "code",
   "execution_count": 851,
   "metadata": {},
   "outputs": [],
   "source": [
    "def ks_test(m = 0.01, M = [2.0, 2.5, 3.0, 3.5, 4.0]):\n",
    "    # perform ks test\n",
    "    sample_scaled = get_sample(m, M)\n",
    "    pvalue = np.ones((len(M), len(M)))\n",
    "    dvalue = np.zeros((len(M), len(M)))\n",
    "    \n",
    "    for i in range(len(M)):\n",
    "        for j in range(i,len(M)):\n",
    "            # perform ks test \n",
    "            d, p = stats.ks_2samp(sample_scaled[i], sample_scaled[j])\n",
    "            pvalue[i, j] =  p\n",
    "            pvalue[j, i] =  p\n",
    "            dvalue[i, j] =  d\n",
    "            dvalue[j, i] =  d\n",
    "    return sample_scaled, dvalue, pvalue"
   ]
  },
  {
   "cell_type": "code",
   "execution_count": 852,
   "metadata": {},
   "outputs": [],
   "source": [
    "def plot_hist(sample):\n",
    "    pl.figure(figsize=(8, 6))\n",
    "    for i in range(len(sample)):\n",
    "        hist = pl.hist(np.log10(sample[i]), bins=1000, cumulative=True, \n",
    "                       histtype='step', density=True, label=('M$\\geq$%0.1f'%M[i])) \n",
    "    pl.legend(loc='upper left')\n",
    "    pl.xlabel('x = $Log_{10}(R_s\\\\tau$)')\n",
    "    pl.ylabel('$P(x)$')"
   ]
  },
  {
   "cell_type": "markdown",
   "metadata": {},
   "source": [
    "### Analysis for m = 0.01"
   ]
  },
  {
   "cell_type": "code",
   "execution_count": 853,
   "metadata": {},
   "outputs": [],
   "source": [
    "m = 0.01\n",
    "M = [2.0, 2.5, 3.0, 3.5, 4.0]\n",
    "# do ks-test\n",
    "sample, dvalue, pvalue = ks_test(m, M)"
   ]
  },
  {
   "cell_type": "code",
   "execution_count": 854,
   "metadata": {
    "scrolled": true
   },
   "outputs": [
    {
     "data": {
      "text/plain": [
       "[1.0, 1.0, 1.0, 1.0, 0.9999999999999999]"
      ]
     },
     "execution_count": 854,
     "metadata": {},
     "output_type": "execute_result"
    }
   ],
   "source": [
    "# check mean of sample\n",
    "[np.mean(si) for si in sample]"
   ]
  },
  {
   "cell_type": "code",
   "execution_count": 855,
   "metadata": {
    "scrolled": false
   },
   "outputs": [
    {
     "data": {
      "text/plain": [
       "[18025, 5409, 1357, 392, 111]"
      ]
     },
     "execution_count": 855,
     "metadata": {},
     "output_type": "execute_result"
    }
   ],
   "source": [
    "# check len  of each sample\n",
    "[len(si) for si in sample]"
   ]
  },
  {
   "cell_type": "code",
   "execution_count": 654,
   "metadata": {
    "scrolled": false
   },
   "outputs": [
    {
     "data": {
      "text/plain": [
       "array([[0.        , 0.01474507, 0.02706803, 0.06348029, 0.11671177],\n",
       "       [0.01474507, 0.        , 0.02249792, 0.05464862, 0.11431898],\n",
       "       [0.02706803, 0.02249792, 0.        , 0.05337968, 0.1153578 ],\n",
       "       [0.06348029, 0.05464862, 0.05337968, 0.        , 0.07570325],\n",
       "       [0.11671177, 0.11431898, 0.1153578 , 0.07570325, 0.        ]])"
      ]
     },
     "execution_count": 654,
     "metadata": {},
     "output_type": "execute_result"
    }
   ],
   "source": [
    "dvalue"
   ]
  },
  {
   "cell_type": "code",
   "execution_count": 653,
   "metadata": {
    "scrolled": true
   },
   "outputs": [
    {
     "data": {
      "text/plain": [
       "array([[1.        , 0.32396221, 0.30952564, 0.08726556, 0.09185192],\n",
       "       [0.32396221, 1.        , 0.6376357 , 0.21867779, 0.10843875],\n",
       "       [0.30952564, 0.6376357 , 1.        , 0.34286591, 0.1213643 ],\n",
       "       [0.08726556, 0.21867779, 0.34286591, 1.        , 0.68768492],\n",
       "       [0.09185192, 0.10843875, 0.1213643 , 0.68768492, 1.        ]])"
      ]
     },
     "execution_count": 653,
     "metadata": {},
     "output_type": "execute_result"
    }
   ],
   "source": [
    "pvalue"
   ]
  },
  {
   "cell_type": "code",
   "execution_count": 856,
   "metadata": {
    "scrolled": false
   },
   "outputs": [
    {
     "data": {
      "image/png": "[encoded data removed]",
      "text/plain": [
       "<Figure size 576x432 with 1 Axes>"
      ]
     },
     "metadata": {},
     "output_type": "display_data"
    }
   ],
   "source": [
    "plot_hist(sample)"
   ]
  },
  {
   "cell_type": "markdown",
   "metadata": {},
   "source": [
    "#### Figure. "
   ]
  },
  {
   "cell_type": "markdown",
   "metadata": {
    "colab_type": "text",
    "id": "6y4wb6lEZsGV"
   },
   "source": [
    "Did you find any statistical significant differences between the distributions? What does it mean? Is your result identical to Correll's 2018? Why or why not? **Discuss!**"
   ]
  },
  {
   "cell_type": "markdown",
   "metadata": {},
   "source": [
    "summary table"
   ]
  },
  {
   "cell_type": "markdown",
   "metadata": {},
   "source": [
    "> sample size is small for large M"
   ]
  },
  {
   "cell_type": "markdown",
   "metadata": {
    "colab_type": "text",
    "id": "8bQwtZi4Z0pi"
   },
   "source": [
    "### 667 students ( or extra credits)\n",
    "\n",
    "Organize your result for different magnitude threshold in a numpy array (it should be a 5x5 array) for both cutoffs (0.01 and 0.001). Each of these arrays should contain the p-value for the pair of distributions i,j in cell \\[i\\]\\[j\\] and \\[j\\]\\[i\\]. Use ```imshow``` to visualize this 2D data. FIrst visualize the matrix itself as done below."
   ]
  },
  {
   "cell_type": "code",
   "execution_count": 857,
   "metadata": {
    "ExecuteTime": {
     "end_time": "2019-09-09T02:02:18.672458Z",
     "start_time": "2019-09-09T02:02:18.553137Z"
    },
    "colab": {
     "base_uri": "https://localhost:8080/",
     "height": 287
    },
    "colab_type": "code",
    "id": "mqQSdpVEhXs5",
    "outputId": "f6a3e3c6-0706-44b9-995b-73321f492bf4"
   },
   "outputs": [],
   "source": [
    "# your code here\n",
    "def plot_pvalue(pvalue):    \n",
    "    pl.imshow((pvalue));\n",
    "    pl.axis('off')\n",
    "    cb = pl.colorbar()\n",
    "    cb.ax.set_ylabel(r'$p$-value')\n",
    "    pl.title(\"KS test results\");\n",
    "    #add a caption\n",
    "def plot_heatmap(pvalue):\n",
    "    ticklabels = ['M$\\geq$%.1f'%M[i] for i in range(5)]\n",
    "    sn.heatmap(pvalue, annot=True, vmin=0, vmax=1, linewidths=.2,\n",
    "               xticklabels=ticklabels, yticklabels=ticklabels)\n",
    "    pl.title('KS test results')"
   ]
  },
  {
   "cell_type": "code",
   "execution_count": 858,
   "metadata": {},
   "outputs": [
    {
     "data": {
      "image/png": "[encoded data removed]",
      "text/plain": [
       "<Figure size 432x288 with 2 Axes>"
      ]
     },
     "metadata": {},
     "output_type": "display_data"
    }
   ],
   "source": [
    "plot_heatmap(pvalue)"
   ]
  },
  {
   "cell_type": "markdown",
   "metadata": {},
   "source": [
    "#### Figure. "
   ]
  },
  {
   "cell_type": "markdown",
   "metadata": {
    "colab_type": "text",
    "id": "tSJmSMCmmA3w"
   },
   "source": [
    "\n",
    "Now visualize the result as a matrix where the cells are white if the results is not statistically significant and red otherwise. \n",
    "After doing it fot the set alpha threshold, lower your alpha threshold so that at least one pair of distribution has a statistically significant difference. **Warning!! this is an unethocal horrifying practice! Once you chose your significance threshold you are never allowed to change it! Why? Discuss**"
   ]
  },
  {
   "cell_type": "code",
   "execution_count": 860,
   "metadata": {},
   "outputs": [
    {
     "data": {
      "text/plain": [
       "array([[ True,  True,  True,  True,  True],\n",
       "       [ True,  True,  True,  True,  True],\n",
       "       [ True,  True,  True,  True,  True],\n",
       "       [ True,  True,  True,  True,  True],\n",
       "       [ True,  True,  True,  True,  True]])"
      ]
     },
     "execution_count": 860,
     "metadata": {},
     "output_type": "execute_result"
    }
   ],
   "source": [
    "pvalue_check = pvalue > alpha\n",
    "pvalue_check"
   ]
  },
  {
   "cell_type": "code",
   "execution_count": 804,
   "metadata": {},
   "outputs": [
    {
     "data": {
      "image/png": "[encoded data removed]",
      "text/plain": [
       "<Figure size 432x288 with 2 Axes>"
      ]
     },
     "metadata": {},
     "output_type": "display_data"
    }
   ],
   "source": [
    "plot_heatmap(pvalue_check)"
   ]
  },
  {
   "cell_type": "markdown",
   "metadata": {
    "colab_type": "text",
    "id": "txEYubwCcIXP"
   },
   "source": [
    "### Redoing it for threshold m = 0001"
   ]
  },
  {
   "cell_type": "code",
   "execution_count": 764,
   "metadata": {},
   "outputs": [],
   "source": [
    "m = 0.001\n",
    "M = [2.0, 2.5, 3.0, 3.5, 4.0]\n",
    "sample, dvalue, pvalue = ks_test(m, M)"
   ]
  },
  {
   "cell_type": "code",
   "execution_count": 765,
   "metadata": {
    "scrolled": false
   },
   "outputs": [
    {
     "data": {
      "image/png": "[encoded data removed]",
      "text/plain": [
       "<Figure size 576x432 with 1 Axes>"
      ]
     },
     "metadata": {},
     "output_type": "display_data"
    }
   ],
   "source": [
    "plot_hist(sample)"
   ]
  },
  {
   "cell_type": "markdown",
   "metadata": {},
   "source": [
    "#### Figure."
   ]
  },
  {
   "cell_type": "markdown",
   "metadata": {},
   "source": [
    "summary table "
   ]
  },
  {
   "cell_type": "code",
   "execution_count": 801,
   "metadata": {},
   "outputs": [
    {
     "data": {
      "image/png": "[encoded data removed]",
      "text/plain": [
       "<Figure size 432x288 with 2 Axes>"
      ]
     },
     "metadata": {},
     "output_type": "display_data"
    }
   ],
   "source": [
    "plot_heatmap(pvalue)"
   ]
  },
  {
   "cell_type": "code",
   "execution_count": 800,
   "metadata": {
    "scrolled": true
   },
   "outputs": [
    {
     "data": {
      "image/png": "[encoded data removed]",
      "text/plain": [
       "<Figure size 432x288 with 2 Axes>"
      ]
     },
     "metadata": {},
     "output_type": "display_data"
    }
   ],
   "source": [
    "pvalue_check = pvalue > alpha\n",
    "plot_heatmap(pvalue_check)"
   ]
  },
  {
   "cell_type": "markdown",
   "metadata": {},
   "source": [
    "## Conclusion"
   ]
  },
  {
   "cell_type": "markdown",
   "metadata": {},
   "source": [
    "In this project, We reproduce the work. \n",
    "\n",
    "sample may slightly different, \n",
    "\n",
    "We can not reject the null hypothesis there is scaling law. "
   ]
  },
  {
   "cell_type": "code",
   "execution_count": null,
   "metadata": {},
   "outputs": [],
   "source": []
  }
 ],
 "metadata": {
  "colab": {
   "collapsed_sections": [],
   "include_colab_link": true,
   "name": "KS_earthquakes.ipynb",
   "provenance": [],
   "version": "0.3.2"
  },
  "kernelspec": {
   "display_name": "Python 3",
   "language": "python",
   "name": "python3"
  },
  "language_info": {
   "codemirror_mode": {
    "name": "ipython",
    "version": 3
   },
   "file_extension": ".py",
   "mimetype": "text/x-python",
   "name": "python",
   "nbconvert_exporter": "python",
   "pygments_lexer": "ipython3",
   "version": "3.6.8"
  },
  "latex_envs": {
   "LaTeX_envs_menu_present": true,
   "autoclose": false,
   "autocomplete": true,
   "bibliofile": "biblio.bib",
   "cite_by": "apalike",
   "current_citInitial": 1,
   "eqLabelWithNumbers": true,
   "eqNumInitial": 1,
   "hotkeys": {
    "equation": "Ctrl-E",
    "itemize": "Ctrl-I"
   },
   "labels_anchors": false,
   "latex_user_defs": false,
   "report_style_numbering": false,
   "user_envs_cfg": false
  },
  "nbTranslate": {
   "displayLangs": [
    "*"
   ],
   "hotkey": "alt-t",
   "langInMainMenu": true,
   "sourceLang": "en",
   "targetLang": "fr",
   "useGoogleTranslate": true
  },
  "toc": {
   "base_numbering": 1,
   "nav_menu": {},
   "number_sections": true,
   "sideBar": true,
   "skip_h1_title": false,
   "title_cell": "Table of Contents",
   "title_sidebar": "Contents",
   "toc_cell": false,
   "toc_position": {},
   "toc_section_display": true,
   "toc_window_display": false
  }
 },
 "nbformat": 4,
 "nbformat_minor": 1
}
